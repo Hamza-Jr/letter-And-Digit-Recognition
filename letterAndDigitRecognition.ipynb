{
 "cells": [
  {
   "cell_type": "code",
   "execution_count": 11,
   "metadata": {},
   "outputs": [],
   "source": [
    "import numpy as np\n",
    "import pandas as pd\n",
    "import matplotlib.pyplot as plt\n",
    "import joblib\n",
    "from sklearn.model_selection import cross_val_score\n",
    "from sklearn.metrics import accuracy_score\n",
    "from sklearn.metrics import classification_report\n",
    "from sklearn.model_selection import GridSearchCV"
   ]
  },
  {
   "attachments": {},
   "cell_type": "markdown",
   "metadata": {},
   "source": [
    "# Data Exploring"
   ]
  },
  {
   "cell_type": "code",
   "execution_count": 12,
   "metadata": {},
   "outputs": [],
   "source": [
    "# From https://www.kaggle.com/datasets/crawford/emnist download the datasets called emnist-balanced-train.csv, emnist-balanced-test.csv, emnist-balanced-mapping.txt and unzip\n",
    "# Pass the path to the datasets\n",
    "trainData = pd.read_csv('/Users/pc/PythonDevEnv/dsenv/PFE/dataset/emnist-balanced-train.csv', header = None)\n",
    "\n",
    "# Mapper: text file that contains the mapping between the letters and digits classes, with their ASCII code\n",
    "mapper = pd.read_csv('/Users/pc/PythonDevEnv/dsenv/PFE/dataset/emnist-balanced-mapping.txt', delimiter = ' ', header = None)"
   ]
  },
  {
   "cell_type": "code",
   "execution_count": 39,
   "metadata": {},
   "outputs": [
    {
     "name": "stdout",
     "output_type": "stream",
     "text": [
      "Data shape: (112800, 785)\n",
      "   0    1    2    3    4    5    6    7    8    9    ...  775  776  777  778  \\\n",
      "0   45    0    0    0    0    0    0    0    0    0  ...    0    0    0    0   \n",
      "1   36    0    0    0    0    0    0    0    0    0  ...    0    0    0    0   \n",
      "2   43    0    0    0    0    0    0    0    0    0  ...    0    0    0    0   \n",
      "3   15    0    0    0    0    0    0    0    0    0  ...    0    0    0    0   \n",
      "4    4    0    0    0    0    0    0    0    0    0  ...    0    0    0    0   \n",
      "\n",
      "   779  780  781  782  783  784  \n",
      "0    0    0    0    0    0    0  \n",
      "1    0    0    0    0    0    0  \n",
      "2    0    0    0    0    0    0  \n",
      "3    0    0    0    0    0    0  \n",
      "4    0    0    0    0    0    0  \n",
      "\n",
      "[5 rows x 785 columns]\n",
      "<class 'pandas.core.frame.DataFrame'>\n",
      "RangeIndex: 112800 entries, 0 to 112799\n",
      "Columns: 785 entries, 0 to 784\n",
      "dtypes: int64(785)\n",
      "memory usage: 675.6 MB\n",
      "None\n"
     ]
    }
   ],
   "source": [
    "# Check the shape of the dataset\n",
    "print('Data shape:', trainData.shape)\n",
    "\n",
    "# First couple rows\n",
    "print(trainData.head())\n",
    "\n",
    "# Get basic info about the dataset\n",
    "print(trainData.info())"
   ]
  },
  {
   "cell_type": "code",
   "execution_count": 40,
   "metadata": {},
   "outputs": [
    {
     "name": "stdout",
     "output_type": "stream",
     "text": [
      "Int64Index([  0,   1,   2,   3,   4,   5,   6,   7,   8,   9,\n",
      "            ...\n",
      "            775, 776, 777, 778, 779, 780, 781, 782, 783, 784],\n",
      "           dtype='int64', length=785)\n"
     ]
    },
    {
     "data": {
      "text/plain": [
       "45    2400\n",
       "7     2400\n",
       "22    2400\n",
       "34    2400\n",
       "9     2400\n",
       "30    2400\n",
       "38    2400\n",
       "39    2400\n",
       "37    2400\n",
       "31    2400\n",
       "16    2400\n",
       "2     2400\n",
       "28    2400\n",
       "8     2400\n",
       "10    2400\n",
       "6     2400\n",
       "27    2400\n",
       "33    2400\n",
       "11    2400\n",
       "18    2400\n",
       "41    2400\n",
       "0     2400\n",
       "23    2400\n",
       "35    2400\n",
       "36    2400\n",
       "13    2400\n",
       "43    2400\n",
       "15    2400\n",
       "4     2400\n",
       "42    2400\n",
       "26    2400\n",
       "32    2400\n",
       "20    2400\n",
       "1     2400\n",
       "46    2400\n",
       "24    2400\n",
       "25    2400\n",
       "12    2400\n",
       "5     2400\n",
       "17    2400\n",
       "3     2400\n",
       "40    2400\n",
       "14    2400\n",
       "44    2400\n",
       "19    2400\n",
       "29    2400\n",
       "21    2400\n",
       "Name: 0, dtype: int64"
      ]
     },
     "execution_count": 40,
     "metadata": {},
     "output_type": "execute_result"
    }
   ],
   "source": [
    "# Columns\n",
    "print(trainData.columns)\n",
    "\n",
    "# Check data distribution\n",
    "trainData.iloc[:,0].value_counts()"
   ]
  },
  {
   "cell_type": "code",
   "execution_count": 13,
   "metadata": {},
   "outputs": [
    {
     "name": "stdout",
     "output_type": "stream",
     "text": [
      "{0: '0', 1: '1', 2: '2', 3: '3', 4: '4', 5: '5', 6: '6', 7: '7', 8: '8', 9: '9', 10: 'A', 11: 'B', 12: 'C', 13: 'D', 14: 'E', 15: 'F', 16: 'G', 17: 'H', 18: 'I', 19: 'J', 20: 'K', 21: 'L', 22: 'M', 23: 'N', 24: 'O', 25: 'P', 26: 'Q', 27: 'R', 28: 'S', 29: 'T', 30: 'U', 31: 'V', 32: 'W', 33: 'X', 34: 'Y', 35: 'Z', 36: 'a', 37: 'b', 38: 'd', 39: 'e', 40: 'f', 41: 'g', 42: 'h', 43: 'n', 44: 'q', 45: 'r', 46: 't'}\n"
     ]
    }
   ],
   "source": [
    "# Get a look over our labels\n",
    "labels = mapper.iloc[:, 1]\n",
    "labelsDict = {}\n",
    "\n",
    "for index, label in enumerate(labels):\n",
    "    labelsDict[index] = chr(label)\n",
    "    \n",
    "print(labelsDict)"
   ]
  },
  {
   "attachments": {},
   "cell_type": "markdown",
   "metadata": {},
   "source": [
    "# Data Preprocessing"
   ]
  },
  {
   "cell_type": "code",
   "execution_count": 50,
   "metadata": {},
   "outputs": [
    {
     "name": "stdout",
     "output_type": "stream",
     "text": [
      "Total missing values: 0\n",
      "min: 0.0 max: 255.0\n",
      "Total duplicates samples: 2\n",
      "                0         1         2         3         4              5    \\\n",
      "count  112800.00000  112800.0  112800.0  112800.0  112800.0  112800.000000   \n",
      "mean       23.00000       0.0       0.0       0.0       0.0       0.001365   \n",
      "std        13.56472       0.0       0.0       0.0       0.0       0.235046   \n",
      "min         0.00000       0.0       0.0       0.0       0.0       0.000000   \n",
      "25%        11.00000       0.0       0.0       0.0       0.0       0.000000   \n",
      "50%        23.00000       0.0       0.0       0.0       0.0       0.000000   \n",
      "75%        35.00000       0.0       0.0       0.0       0.0       0.000000   \n",
      "max        46.00000       0.0       0.0       0.0       0.0      63.000000   \n",
      "\n",
      "                 6              7              8              9    ...  \\\n",
      "count  112800.000000  112800.000000  112800.000000  112800.000000  ...   \n",
      "mean        0.011560       0.020700       0.017438       0.018475  ...   \n",
      "std         1.221826       1.658797       1.602478       1.719549  ...   \n",
      "min         0.000000       0.000000       0.000000       0.000000  ...   \n",
      "25%         0.000000       0.000000       0.000000       0.000000  ...   \n",
      "50%         0.000000       0.000000       0.000000       0.000000  ...   \n",
      "75%         0.000000       0.000000       0.000000       0.000000  ...   \n",
      "max       192.000000     217.000000     217.000000     217.000000  ...   \n",
      "\n",
      "                 775       776       777            778            779  \\\n",
      "count  112800.000000  112800.0  112800.0  112800.000000  112800.000000   \n",
      "mean        0.000310       0.0       0.0       0.002163       0.000284   \n",
      "std         0.104211       0.0       0.0       0.726499       0.095279   \n",
      "min         0.000000       0.0       0.0       0.000000       0.000000   \n",
      "25%         0.000000       0.0       0.0       0.000000       0.000000   \n",
      "50%         0.000000       0.0       0.0       0.000000       0.000000   \n",
      "75%         0.000000       0.0       0.0       0.000000       0.000000   \n",
      "max        35.000000       0.0       0.0     244.000000      32.000000   \n",
      "\n",
      "            780       781       782       783       784  \n",
      "count  112800.0  112800.0  112800.0  112800.0  112800.0  \n",
      "mean        0.0       0.0       0.0       0.0       0.0  \n",
      "std         0.0       0.0       0.0       0.0       0.0  \n",
      "min         0.0       0.0       0.0       0.0       0.0  \n",
      "25%         0.0       0.0       0.0       0.0       0.0  \n",
      "50%         0.0       0.0       0.0       0.0       0.0  \n",
      "75%         0.0       0.0       0.0       0.0       0.0  \n",
      "max         0.0       0.0       0.0       0.0       0.0  \n",
      "\n",
      "[8 rows x 785 columns]\n"
     ]
    }
   ],
   "source": [
    "# Check for missing values\n",
    "print('Total missing values:', trainData.isna().sum().sum())\n",
    "\n",
    "# Check if there're any values out of range [0, 255]\n",
    "print('min:', trainData.describe().loc['min'].min(), 'max:', trainData.describe().loc['max'].max())\n",
    "\n",
    "# Check for duplicates\n",
    "print('Total duplicates samples:', trainData.duplicated().sum())\n",
    "\n",
    "# Basic statistics on training data\n",
    "print(trainData.describe())"
   ]
  },
  {
   "cell_type": "code",
   "execution_count": 14,
   "metadata": {},
   "outputs": [
    {
     "name": "stdout",
     "output_type": "stream",
     "text": [
      "y shape: (112800,) X shape: (112800, 784)\n"
     ]
    }
   ],
   "source": [
    "# Train features\n",
    "X = trainData.iloc[:, 1:].values\n",
    "\n",
    "# Train labels\n",
    "y = trainData.iloc[:, 0].values\n",
    "\n",
    "print('y shape:', y.shape, 'X shape:', X.shape)"
   ]
  },
  {
   "cell_type": "code",
   "execution_count": 6,
   "metadata": {},
   "outputs": [
    {
     "data": {
      "image/png": "[encoded data removed]",
      "text/plain": [
       "<Figure size 1000x800 with 15 Axes>"
      ]
     },
     "metadata": {},
     "output_type": "display_data"
    }
   ],
   "source": [
    "# Let's see what type of images we're working with\n",
    "\n",
    "fig, axes = plt.subplots(3, 5, figsize = (10, 8))\n",
    "\n",
    "for index, ax in enumerate(axes.flat):\n",
    "    ax.imshow(X[index].reshape([28, 28]), cmap = 'gray')\n",
    "    ax.set_title(chr(labels[y[index]]))"
   ]
  },
  {
   "cell_type": "code",
   "execution_count": 7,
   "metadata": {},
   "outputs": [
    {
     "name": "stdout",
     "output_type": "stream",
     "text": [
      "Label entry #39: (83, 'S')\n"
     ]
    },
    {
     "data": {
      "text/plain": [
       "Text(0.5, 1.0, 'S')"
      ]
     },
     "execution_count": 7,
     "metadata": {},
     "output_type": "execute_result"
    },
    {
     "data": {
      "image/png": "[encoded data removed]",
      "text/plain": [
       "<Figure size 640x480 with 1 Axes>"
      ]
     },
     "metadata": {},
     "output_type": "display_data"
    }
   ],
   "source": [
    "# Visualize a randomly chosen sample data (#39)\n",
    "image39 = X[39].reshape(28, 28)\n",
    "\n",
    "# Corresponding ASCII code\n",
    "label39 = labels[y[39]]\n",
    "\n",
    "print(f'Label entry #39: {label39, chr(label39)}')\n",
    "\n",
    "plt.imshow(image39, cmap = 'gray')\n",
    "plt.title(chr(label39))\n",
    "\n",
    "# !!!! yeah... the output definitely does NOT look like an 'S' !!!!"
   ]
  },
  {
   "cell_type": "code",
   "execution_count": 15,
   "metadata": {},
   "outputs": [],
   "source": [
    "height = 28\n",
    "width = 28\n",
    "\n",
    "# Function to reshape (28*28), flip (left to right) and rotate (90d) images, since all the data is in the same orientation\n",
    "def rotate(image):\n",
    "    # Reshape image to 28*28, just for visualization purposes\n",
    "    image = image.reshape(height, width)\n",
    "    \n",
    "    # Flip and rotate\n",
    "    image = np.fliplr(image)\n",
    "    image = np.rot90(image)\n",
    "    \n",
    "    return image"
   ]
  },
  {
   "cell_type": "code",
   "execution_count": 24,
   "metadata": {},
   "outputs": [
    {
     "name": "stdout",
     "output_type": "stream",
     "text": [
      "Label entry #39: (83, 'S')\n"
     ]
    },
    {
     "data": {
      "text/plain": [
       "Text(0.5, 1.0, 'S')"
      ]
     },
     "execution_count": 24,
     "metadata": {},
     "output_type": "execute_result"
    },
    {
     "data": {
      "image/png": "[encoded data removed]",
      "text/plain": [
       "<Figure size 640x480 with 1 Axes>"
      ]
     },
     "metadata": {},
     "output_type": "display_data"
    }
   ],
   "source": [
    "# Trying again to plot the CORRECT SHAPED 'S'\n",
    "print(f'Label entry #39: {label39, chr(label39)}')\n",
    "plt.imshow(rotate(image39), cmap = 'gray')\n",
    "plt.title(chr(label39))\n",
    "\n",
    "# !!! Now that's an 'S' !!!!"
   ]
  },
  {
   "cell_type": "code",
   "execution_count": 16,
   "metadata": {},
   "outputs": [
    {
     "name": "stdout",
     "output_type": "stream",
     "text": [
      "X: (112800, 28, 28)\n"
     ]
    }
   ],
   "source": [
    "# Flip and rotate all image\n",
    "X = np.apply_along_axis(rotate, 1, X)\n",
    "print(\"X:\", X.shape)"
   ]
  },
  {
   "cell_type": "code",
   "execution_count": 26,
   "metadata": {},
   "outputs": [
    {
     "data": {
      "image/png": "[encoded data removed]",
      "text/plain": [
       "<Figure size 1000x800 with 15 Axes>"
      ]
     },
     "metadata": {},
     "output_type": "display_data"
    }
   ],
   "source": [
    "# Plot the labels again\n",
    "fig2, axes2 = plt.subplots(3, 5, figsize = (10, 8))\n",
    "\n",
    "for index, ax in enumerate(axes2.flat):\n",
    "    ax.imshow(X[index], cmap = 'gray')\n",
    "    ax.set_title(chr(labels[y[index]]))"
   ]
  },
  {
   "cell_type": "code",
   "execution_count": 34,
   "metadata": {},
   "outputs": [
    {
     "data": {
      "image/png": "[encoded data removed]",
      "text/plain": [
       "<Figure size 1000x800 with 15 Axes>"
      ]
     },
     "metadata": {},
     "output_type": "display_data"
    }
   ],
   "source": [
    "# Plot random samples\n",
    "samples = np.random.choice(range(X.shape[0]), size = 15)\n",
    "\n",
    "plt.figure(figsize = (10, 8))\n",
    "\n",
    "for i, j in enumerate(samples):\n",
    "    plt.subplot(3, 5, i + 1)\n",
    "    plt.imshow(X[j], cmap = 'gray')\n",
    "    plt.title(chr(labels[y[j]]))"
   ]
  },
  {
   "cell_type": "code",
   "execution_count": 33,
   "metadata": {},
   "outputs": [
    {
     "data": {
      "image/png": "[encoded data removed]",
      "text/plain": [
       "<Figure size 1000x500 with 64 Axes>"
      ]
     },
     "metadata": {},
     "output_type": "display_data"
    }
   ],
   "source": [
    "# Plot different variants of the same digit or letter\n",
    "classes = ['0', '1', '2', '3', '4', '5', '6', '7', '8', '9', '10', '11', '12', '13', '14', '15']\n",
    "rows = 4\n",
    "plt.figure(figsize = (10, 5))\n",
    "\n",
    "for index, label in enumerate(classes):\n",
    "    indices = np.nonzero([i == index for i in y])\n",
    "    indices = np.random.choice(indices[0], rows)\n",
    "    for i , idx in enumerate(indices):\n",
    "        plt_idx = i * len(classes) + index + 1\n",
    "        plt.subplot(rows, len(classes), plt_idx)\n",
    "        plt.imshow(X[idx].reshape(28, 28), cmap = 'gray')\n",
    "        plt.axis(\"off\")\n",
    "        if i == 0:\n",
    "            plt.title(chr(labels[y[idx]]))\n",
    "\n",
    "plt.show()"
   ]
  },
  {
   "cell_type": "code",
   "execution_count": 17,
   "metadata": {},
   "outputs": [],
   "source": [
    "# Reshape data to its original shape\n",
    "X = X.reshape(-1, 784)"
   ]
  },
  {
   "cell_type": "code",
   "execution_count": 18,
   "metadata": {},
   "outputs": [],
   "source": [
    "# Column-Normalizing\n",
    "# Since the data is in the range [0, 255], we can normalize it by dividing each pixel by 255\n",
    "X = X / 255"
   ]
  },
  {
   "attachments": {},
   "cell_type": "markdown",
   "metadata": {},
   "source": [
    "# Model Creation"
   ]
  },
  {
   "cell_type": "code",
   "execution_count": 19,
   "metadata": {},
   "outputs": [],
   "source": [
    "# Split data into training and testing subsets\n",
    "from sklearn.model_selection import train_test_split\n",
    "\n",
    "X_train, X_test, y_train, y_test = train_test_split(X, y, test_size = 0.2, random_state = 42)"
   ]
  },
  {
   "cell_type": "code",
   "execution_count": 10,
   "metadata": {},
   "outputs": [
    {
     "name": "stdout",
     "output_type": "stream",
     "text": [
      "X_train shape: (90240, 784) y_train shape: (90240,)\n",
      "X_test shape: (22560, 784) y_test shape: (22560,)\n"
     ]
    }
   ],
   "source": [
    "print('X_train shape:', X_train.shape, 'y_train shape:', y_train.shape)\n",
    "print('X_test shape:', X_test.shape, 'y_test shape:', y_test.shape)"
   ]
  },
  {
   "attachments": {},
   "cell_type": "markdown",
   "metadata": {},
   "source": [
    "### KNN"
   ]
  },
  {
   "cell_type": "code",
   "execution_count": 10,
   "metadata": {},
   "outputs": [],
   "source": [
    "# KNN\n",
    "from sklearn.neighbors import KNeighborsClassifier\n",
    "\n",
    "# Finding the optimal number of neighbors\n",
    "def findOptimalK(train_X, test_X, train_y, test_y):\n",
    "    optimalK = 0\n",
    "    highestScore = 0\n",
    "    for k in range(1, 12):\n",
    "        knn = KNeighborsClassifier(n_neighbors = k)\n",
    "        knn.fit(train_X, train_y)\n",
    "        score = knn.score(test_X, test_y)\n",
    "        if score > highestScore:\n",
    "            highestScore = score\n",
    "            optimalK = k\n",
    "    return optimalK"
   ]
  },
  {
   "cell_type": "code",
   "execution_count": 11,
   "metadata": {},
   "outputs": [],
   "source": [
    "k = findOptimalK(X_train, X_test, y_train, y_test)"
   ]
  },
  {
   "cell_type": "code",
   "execution_count": 12,
   "metadata": {},
   "outputs": [
    {
     "data": {
      "text/plain": [
       "['/Users/pc/PythonDevEnv/dsenv/PFE/model/savedArtifacts/knnModel2.joblib']"
      ]
     },
     "execution_count": 12,
     "metadata": {},
     "output_type": "execute_result"
    }
   ],
   "source": [
    "# Model creation\n",
    "knnModel = KNeighborsClassifier(n_neighbors = k)\n",
    "\n",
    "# Training\n",
    "knnModel.fit(X_train, y_train)\n",
    "\n",
    "# Saving the model\n",
    "joblib.dump(knnModel, '/Users/pc/PythonDevEnv/dsenv/PFE/model/savedArtifacts/knnModel2.joblib')"
   ]
  },
  {
   "cell_type": "code",
   "execution_count": 13,
   "metadata": {},
   "outputs": [
    {
     "name": "stdout",
     "output_type": "stream",
     "text": [
      "KNN Accuracy Score: 0.7777482269503546\n",
      "KNN Classification Report:\n",
      "               precision    recall  f1-score   support\n",
      "\n",
      "           0       0.46      0.67      0.54       457\n",
      "           1       0.40      0.71      0.51       472\n",
      "           2       0.85      0.81      0.83       479\n",
      "           3       0.84      0.93      0.89       515\n",
      "           4       0.77      0.85      0.81       460\n",
      "           5       0.81      0.75      0.78       473\n",
      "           6       0.81      0.90      0.85       484\n",
      "           7       0.84      0.96      0.90       447\n",
      "           8       0.84      0.83      0.84       496\n",
      "           9       0.54      0.76      0.63       480\n",
      "          10       0.83      0.84      0.83       494\n",
      "          11       0.91      0.70      0.79       465\n",
      "          12       0.78      0.92      0.85       469\n",
      "          13       0.89      0.76      0.82       500\n",
      "          14       0.93      0.86      0.89       465\n",
      "          15       0.59      0.55      0.57       467\n",
      "          16       0.92      0.75      0.83       481\n",
      "          17       0.86      0.84      0.85       490\n",
      "          18       0.55      0.59      0.57       482\n",
      "          19       0.81      0.81      0.81       464\n",
      "          20       0.92      0.83      0.87       480\n",
      "          21       0.45      0.40      0.43       508\n",
      "          22       0.96      0.92      0.94       488\n",
      "          23       0.84      0.92      0.88       484\n",
      "          24       0.55      0.64      0.59       464\n",
      "          25       0.80      0.87      0.83       494\n",
      "          26       0.91      0.62      0.74       511\n",
      "          27       0.93      0.73      0.82       472\n",
      "          28       0.76      0.84      0.80       473\n",
      "          29       0.84      0.91      0.87       470\n",
      "          30       0.85      0.88      0.87       468\n",
      "          31       0.83      0.91      0.87       454\n",
      "          32       0.98      0.87      0.92       510\n",
      "          33       0.94      0.86      0.90       477\n",
      "          34       0.84      0.68      0.75       464\n",
      "          35       0.85      0.84      0.85       488\n",
      "          36       0.79      0.76      0.77       477\n",
      "          37       0.88      0.86      0.87       499\n",
      "          38       0.94      0.88      0.91       477\n",
      "          39       0.85      0.90      0.87       501\n",
      "          40       0.59      0.53      0.56       465\n",
      "          41       0.67      0.33      0.44       476\n",
      "          42       0.82      0.88      0.85       464\n",
      "          43       0.88      0.89      0.89       513\n",
      "          44       0.57      0.37      0.45       493\n",
      "          45       0.81      0.95      0.87       466\n",
      "          46       0.79      0.71      0.75       484\n",
      "\n",
      "    accuracy                           0.78     22560\n",
      "   macro avg       0.79      0.78      0.78     22560\n",
      "weighted avg       0.79      0.78      0.78     22560\n",
      "\n"
     ]
    }
   ],
   "source": [
    "# Load saved model\n",
    "knnModel_loaded = joblib.load('/Users/pc/PythonDevEnv/dsenv/PFE/model/savedArtifacts/knnModel2.joblib')\n",
    "\n",
    "# Predictions\n",
    "knnPredictions = knnModel_loaded.predict(X_test)\n",
    "\n",
    "# Accuracy Score\n",
    "print('KNN Accuracy Score:', accuracy_score(y_test, knnPredictions))\n",
    "\n",
    "# Classification Report\n",
    "print('KNN Classification Report:\\n', classification_report(y_test, knnPredictions))"
   ]
  },
  {
   "cell_type": "code",
   "execution_count": 14,
   "metadata": {},
   "outputs": [
    {
     "name": "stdout",
     "output_type": "stream",
     "text": [
      "KNN cross-validation score: 0.7705673758865248\n"
     ]
    }
   ],
   "source": [
    "# KNN cross-validation\n",
    "knnCVScore = cross_val_score(knnModel_loaded, X_train, y_train, cv = 5, scoring = 'accuracy').mean()\n",
    "\n",
    "print('KNN cross-validation score:', knnCVScore)"
   ]
  },
  {
   "cell_type": "code",
   "execution_count": 71,
   "metadata": {},
   "outputs": [
    {
     "data": {
      "text/plain": [
       "['/Users/pc/PythonDevEnv/dsenv/PFE/model/savedArtifacts/knnCVScore.joblib']"
      ]
     },
     "execution_count": 71,
     "metadata": {},
     "output_type": "execute_result"
    }
   ],
   "source": [
    "joblib.dump(knnCVScore, '/Users/pc/PythonDevEnv/dsenv/PFE/model/savedArtifacts/knnCVScore.joblib')"
   ]
  },
  {
   "cell_type": "code",
   "execution_count": 16,
   "metadata": {},
   "outputs": [],
   "source": [
    "# KNN Regularization\n",
    "knnParams = {'weights': ['uniform', 'distance'],\n",
    "              'metric' : ['euclidean', 'minkowski', 'manhattan'],\n",
    "             }\n",
    "\n",
    "gridKnn = GridSearchCV(knnModel, knnParams, cv = 5, scoring = 'accuracy')"
   ]
  },
  {
   "cell_type": "code",
   "execution_count": 17,
   "metadata": {},
   "outputs": [
    {
     "data": {
      "text/html": [
       "<style>#sk-container-id-1 {color: black;background-color: white;}#sk-container-id-1 pre{padding: 0;}#sk-container-id-1 div.sk-toggleable {background-color: white;}#sk-container-id-1 label.sk-toggleable__label {cursor: pointer;display: block;width: 100%;margin-bottom: 0;padding: 0.3em;box-sizing: border-box;text-align: center;}#sk-container-id-1 label.sk-toggleable__label-arrow:before {content: \"▸\";float: left;margin-right: 0.25em;color: #696969;}#sk-container-id-1 label.sk-toggleable__label-arrow:hover:before {color: black;}#sk-container-id-1 div.sk-estimator:hover label.sk-toggleable__label-arrow:before {color: black;}#sk-container-id-1 div.sk-toggleable__content {max-height: 0;max-width: 0;overflow: hidden;text-align: left;background-color: #f0f8ff;}#sk-container-id-1 div.sk-toggleable__content pre {margin: 0.2em;color: black;border-radius: 0.25em;background-color: #f0f8ff;}#sk-container-id-1 input.sk-toggleable__control:checked~div.sk-toggleable__content {max-height: 200px;max-width: 100%;overflow: auto;}#sk-container-id-1 input.sk-toggleable__control:checked~label.sk-toggleable__label-arrow:before {content: \"▾\";}#sk-container-id-1 div.sk-estimator input.sk-toggleable__control:checked~label.sk-toggleable__label {background-color: #d4ebff;}#sk-container-id-1 div.sk-label input.sk-toggleable__control:checked~label.sk-toggleable__label {background-color: #d4ebff;}#sk-container-id-1 input.sk-hidden--visually {border: 0;clip: rect(1px 1px 1px 1px);clip: rect(1px, 1px, 1px, 1px);height: 1px;margin: -1px;overflow: hidden;padding: 0;position: absolute;width: 1px;}#sk-container-id-1 div.sk-estimator {font-family: monospace;background-color: #f0f8ff;border: 1px dotted black;border-radius: 0.25em;box-sizing: border-box;margin-bottom: 0.5em;}#sk-container-id-1 div.sk-estimator:hover {background-color: #d4ebff;}#sk-container-id-1 div.sk-parallel-item::after {content: \"\";width: 100%;border-bottom: 1px solid gray;flex-grow: 1;}#sk-container-id-1 div.sk-label:hover label.sk-toggleable__label {background-color: #d4ebff;}#sk-container-id-1 div.sk-serial::before {content: \"\";position: absolute;border-left: 1px solid gray;box-sizing: border-box;top: 0;bottom: 0;left: 50%;z-index: 0;}#sk-container-id-1 div.sk-serial {display: flex;flex-direction: column;align-items: center;background-color: white;padding-right: 0.2em;padding-left: 0.2em;position: relative;}#sk-container-id-1 div.sk-item {position: relative;z-index: 1;}#sk-container-id-1 div.sk-parallel {display: flex;align-items: stretch;justify-content: center;background-color: white;position: relative;}#sk-container-id-1 div.sk-item::before, #sk-container-id-1 div.sk-parallel-item::before {content: \"\";position: absolute;border-left: 1px solid gray;box-sizing: border-box;top: 0;bottom: 0;left: 50%;z-index: -1;}#sk-container-id-1 div.sk-parallel-item {display: flex;flex-direction: column;z-index: 1;position: relative;background-color: white;}#sk-container-id-1 div.sk-parallel-item:first-child::after {align-self: flex-end;width: 50%;}#sk-container-id-1 div.sk-parallel-item:last-child::after {align-self: flex-start;width: 50%;}#sk-container-id-1 div.sk-parallel-item:only-child::after {width: 0;}#sk-container-id-1 div.sk-dashed-wrapped {border: 1px dashed gray;margin: 0 0.4em 0.5em 0.4em;box-sizing: border-box;padding-bottom: 0.4em;background-color: white;}#sk-container-id-1 div.sk-label label {font-family: monospace;font-weight: bold;display: inline-block;line-height: 1.2em;}#sk-container-id-1 div.sk-label-container {text-align: center;}#sk-container-id-1 div.sk-container {/* jupyter's `normalize.less` sets `[hidden] { display: none; }` but bootstrap.min.css set `[hidden] { display: none !important; }` so we also need the `!important` here to be able to override the default hidden behavior on the sphinx rendered scikit-learn.org. See: https://github.com/scikit-learn/scikit-learn/issues/21755 */display: inline-block !important;position: relative;}#sk-container-id-1 div.sk-text-repr-fallback {display: none;}</style><div id=\"sk-container-id-1\" class=\"sk-top-container\"><div class=\"sk-text-repr-fallback\"><pre>GridSearchCV(cv=5, estimator=KNeighborsClassifier(),\n",
       "             param_grid={&#x27;metric&#x27;: [&#x27;euclidean&#x27;, &#x27;minkowski&#x27;, &#x27;manhattan&#x27;],\n",
       "                         &#x27;weights&#x27;: [&#x27;uniform&#x27;, &#x27;distance&#x27;]},\n",
       "             scoring=&#x27;accuracy&#x27;)</pre><b>In a Jupyter environment, please rerun this cell to show the HTML representation or trust the notebook. <br />On GitHub, the HTML representation is unable to render, please try loading this page with nbviewer.org.</b></div><div class=\"sk-container\" hidden><div class=\"sk-item sk-dashed-wrapped\"><div class=\"sk-label-container\"><div class=\"sk-label sk-toggleable\"><input class=\"sk-toggleable__control sk-hidden--visually\" id=\"sk-estimator-id-1\" type=\"checkbox\" ><label for=\"sk-estimator-id-1\" class=\"sk-toggleable__label sk-toggleable__label-arrow\">GridSearchCV</label><div class=\"sk-toggleable__content\"><pre>GridSearchCV(cv=5, estimator=KNeighborsClassifier(),\n",
       "             param_grid={&#x27;metric&#x27;: [&#x27;euclidean&#x27;, &#x27;minkowski&#x27;, &#x27;manhattan&#x27;],\n",
       "                         &#x27;weights&#x27;: [&#x27;uniform&#x27;, &#x27;distance&#x27;]},\n",
       "             scoring=&#x27;accuracy&#x27;)</pre></div></div></div><div class=\"sk-parallel\"><div class=\"sk-parallel-item\"><div class=\"sk-item\"><div class=\"sk-label-container\"><div class=\"sk-label sk-toggleable\"><input class=\"sk-toggleable__control sk-hidden--visually\" id=\"sk-estimator-id-2\" type=\"checkbox\" ><label for=\"sk-estimator-id-2\" class=\"sk-toggleable__label sk-toggleable__label-arrow\">estimator: KNeighborsClassifier</label><div class=\"sk-toggleable__content\"><pre>KNeighborsClassifier()</pre></div></div></div><div class=\"sk-serial\"><div class=\"sk-item\"><div class=\"sk-estimator sk-toggleable\"><input class=\"sk-toggleable__control sk-hidden--visually\" id=\"sk-estimator-id-3\" type=\"checkbox\" ><label for=\"sk-estimator-id-3\" class=\"sk-toggleable__label sk-toggleable__label-arrow\">KNeighborsClassifier</label><div class=\"sk-toggleable__content\"><pre>KNeighborsClassifier()</pre></div></div></div></div></div></div></div></div></div></div>"
      ],
      "text/plain": [
       "GridSearchCV(cv=5, estimator=KNeighborsClassifier(),\n",
       "             param_grid={'metric': ['euclidean', 'minkowski', 'manhattan'],\n",
       "                         'weights': ['uniform', 'distance']},\n",
       "             scoring='accuracy')"
      ]
     },
     "execution_count": 17,
     "metadata": {},
     "output_type": "execute_result"
    }
   ],
   "source": [
    "gridKnn.fit(X_train, y_train)"
   ]
  },
  {
   "cell_type": "code",
   "execution_count": 18,
   "metadata": {},
   "outputs": [
    {
     "data": {
      "text/plain": [
       "['/Users/pc/PythonDevEnv/dsenv/PFE/model/savedArtifacts/gridKnn.joblib']"
      ]
     },
     "execution_count": 18,
     "metadata": {},
     "output_type": "execute_result"
    }
   ],
   "source": [
    "joblib.dump(gridKnn, '/Users/pc/PythonDevEnv/dsenv/PFE/model/savedArtifacts/gridKnn.joblib')"
   ]
  },
  {
   "cell_type": "code",
   "execution_count": 19,
   "metadata": {},
   "outputs": [
    {
     "name": "stdout",
     "output_type": "stream",
     "text": [
      "Best score: 0.7762854609929077\n",
      "Best parameters: {'metric': 'euclidean', 'weights': 'distance'}\n",
      "Best estimator: KNeighborsClassifier(metric='euclidean', weights='distance')\n"
     ]
    }
   ],
   "source": [
    "print('Best score:', gridKnn.best_score_)\n",
    "print('Best parameters:', gridKnn.best_params_)\n",
    "print('Best estimator:', gridKnn.best_estimator_)"
   ]
  },
  {
   "cell_type": "code",
   "execution_count": 20,
   "metadata": {},
   "outputs": [
    {
     "data": {
      "text/html": [
       "<style>#sk-container-id-2 {color: black;background-color: white;}#sk-container-id-2 pre{padding: 0;}#sk-container-id-2 div.sk-toggleable {background-color: white;}#sk-container-id-2 label.sk-toggleable__label {cursor: pointer;display: block;width: 100%;margin-bottom: 0;padding: 0.3em;box-sizing: border-box;text-align: center;}#sk-container-id-2 label.sk-toggleable__label-arrow:before {content: \"▸\";float: left;margin-right: 0.25em;color: #696969;}#sk-container-id-2 label.sk-toggleable__label-arrow:hover:before {color: black;}#sk-container-id-2 div.sk-estimator:hover label.sk-toggleable__label-arrow:before {color: black;}#sk-container-id-2 div.sk-toggleable__content {max-height: 0;max-width: 0;overflow: hidden;text-align: left;background-color: #f0f8ff;}#sk-container-id-2 div.sk-toggleable__content pre {margin: 0.2em;color: black;border-radius: 0.25em;background-color: #f0f8ff;}#sk-container-id-2 input.sk-toggleable__control:checked~div.sk-toggleable__content {max-height: 200px;max-width: 100%;overflow: auto;}#sk-container-id-2 input.sk-toggleable__control:checked~label.sk-toggleable__label-arrow:before {content: \"▾\";}#sk-container-id-2 div.sk-estimator input.sk-toggleable__control:checked~label.sk-toggleable__label {background-color: #d4ebff;}#sk-container-id-2 div.sk-label input.sk-toggleable__control:checked~label.sk-toggleable__label {background-color: #d4ebff;}#sk-container-id-2 input.sk-hidden--visually {border: 0;clip: rect(1px 1px 1px 1px);clip: rect(1px, 1px, 1px, 1px);height: 1px;margin: -1px;overflow: hidden;padding: 0;position: absolute;width: 1px;}#sk-container-id-2 div.sk-estimator {font-family: monospace;background-color: #f0f8ff;border: 1px dotted black;border-radius: 0.25em;box-sizing: border-box;margin-bottom: 0.5em;}#sk-container-id-2 div.sk-estimator:hover {background-color: #d4ebff;}#sk-container-id-2 div.sk-parallel-item::after {content: \"\";width: 100%;border-bottom: 1px solid gray;flex-grow: 1;}#sk-container-id-2 div.sk-label:hover label.sk-toggleable__label {background-color: #d4ebff;}#sk-container-id-2 div.sk-serial::before {content: \"\";position: absolute;border-left: 1px solid gray;box-sizing: border-box;top: 0;bottom: 0;left: 50%;z-index: 0;}#sk-container-id-2 div.sk-serial {display: flex;flex-direction: column;align-items: center;background-color: white;padding-right: 0.2em;padding-left: 0.2em;position: relative;}#sk-container-id-2 div.sk-item {position: relative;z-index: 1;}#sk-container-id-2 div.sk-parallel {display: flex;align-items: stretch;justify-content: center;background-color: white;position: relative;}#sk-container-id-2 div.sk-item::before, #sk-container-id-2 div.sk-parallel-item::before {content: \"\";position: absolute;border-left: 1px solid gray;box-sizing: border-box;top: 0;bottom: 0;left: 50%;z-index: -1;}#sk-container-id-2 div.sk-parallel-item {display: flex;flex-direction: column;z-index: 1;position: relative;background-color: white;}#sk-container-id-2 div.sk-parallel-item:first-child::after {align-self: flex-end;width: 50%;}#sk-container-id-2 div.sk-parallel-item:last-child::after {align-self: flex-start;width: 50%;}#sk-container-id-2 div.sk-parallel-item:only-child::after {width: 0;}#sk-container-id-2 div.sk-dashed-wrapped {border: 1px dashed gray;margin: 0 0.4em 0.5em 0.4em;box-sizing: border-box;padding-bottom: 0.4em;background-color: white;}#sk-container-id-2 div.sk-label label {font-family: monospace;font-weight: bold;display: inline-block;line-height: 1.2em;}#sk-container-id-2 div.sk-label-container {text-align: center;}#sk-container-id-2 div.sk-container {/* jupyter's `normalize.less` sets `[hidden] { display: none; }` but bootstrap.min.css set `[hidden] { display: none !important; }` so we also need the `!important` here to be able to override the default hidden behavior on the sphinx rendered scikit-learn.org. See: https://github.com/scikit-learn/scikit-learn/issues/21755 */display: inline-block !important;position: relative;}#sk-container-id-2 div.sk-text-repr-fallback {display: none;}</style><div id=\"sk-container-id-2\" class=\"sk-top-container\"><div class=\"sk-text-repr-fallback\"><pre>KNeighborsClassifier(metric=&#x27;euclidean&#x27;, weights=&#x27;distance&#x27;)</pre><b>In a Jupyter environment, please rerun this cell to show the HTML representation or trust the notebook. <br />On GitHub, the HTML representation is unable to render, please try loading this page with nbviewer.org.</b></div><div class=\"sk-container\" hidden><div class=\"sk-item\"><div class=\"sk-estimator sk-toggleable\"><input class=\"sk-toggleable__control sk-hidden--visually\" id=\"sk-estimator-id-4\" type=\"checkbox\" checked><label for=\"sk-estimator-id-4\" class=\"sk-toggleable__label sk-toggleable__label-arrow\">KNeighborsClassifier</label><div class=\"sk-toggleable__content\"><pre>KNeighborsClassifier(metric=&#x27;euclidean&#x27;, weights=&#x27;distance&#x27;)</pre></div></div></div></div></div>"
      ],
      "text/plain": [
       "KNeighborsClassifier(metric='euclidean', weights='distance')"
      ]
     },
     "execution_count": 20,
     "metadata": {},
     "output_type": "execute_result"
    }
   ],
   "source": [
    "# Regularized model\n",
    "regKnn = KNeighborsClassifier(metric = 'euclidean', n_neighbors = k, weights = 'distance')\n",
    "\n",
    "regKnn.fit(X_train, y_train)"
   ]
  },
  {
   "cell_type": "code",
   "execution_count": null,
   "metadata": {},
   "outputs": [],
   "source": [
    "# Predictions\n",
    "regKnnPredictions = regKnn.predict(X_test)"
   ]
  },
  {
   "cell_type": "code",
   "execution_count": 62,
   "metadata": {},
   "outputs": [
    {
     "name": "stdout",
     "output_type": "stream",
     "text": [
      "Regularized KNN accuracy score: 0.7832890070921986\n"
     ]
    }
   ],
   "source": [
    "# Accuracy after regularization\n",
    "print('Regularized KNN accuracy score:', accuracy_score(y_test, regKnnPredictions))"
   ]
  },
  {
   "cell_type": "code",
   "execution_count": 20,
   "metadata": {},
   "outputs": [],
   "source": [
    "# Function to plot random predicted samples alongside the actual values\n",
    "def plotRandomPredictions(predictions, test_X, test_y, n_samples = 5):\n",
    "    predSamples = np.random.choice(len(predictions), size = n_samples)\n",
    "\n",
    "    for j in predSamples:\n",
    "        predicted = predictions[j]\n",
    "        actual = test_y[j]\n",
    "        \n",
    "        image = test_X[j]\n",
    "        plt.subplot(3, 5, 2)\n",
    "        plt.imshow(image.reshape(28, 28), cmap = 'gray')\n",
    "        plt.axis(('off'))\n",
    "        plt.show()\n",
    "        \n",
    "        print(\"Predicted value:\", chr(labels[predicted]), \"Actual value:\", chr(labels[actual]), '' if predicted == actual else 'Wrong')"
   ]
  },
  {
   "cell_type": "code",
   "execution_count": 61,
   "metadata": {},
   "outputs": [
    {
     "data": {
      "image/png": "[encoded data removed]",
      "text/plain": [
       "<Figure size 640x480 with 1 Axes>"
      ]
     },
     "metadata": {},
     "output_type": "display_data"
    },
    {
     "name": "stdout",
     "output_type": "stream",
     "text": [
      "Predicted value: e Actual value: E Wrong\n"
     ]
    },
    {
     "data": {
      "image/png": "[encoded data removed]",
      "text/plain": [
       "<Figure size 640x480 with 1 Axes>"
      ]
     },
     "metadata": {},
     "output_type": "display_data"
    },
    {
     "name": "stdout",
     "output_type": "stream",
     "text": [
      "Predicted value: d Actual value: d \n"
     ]
    },
    {
     "data": {
      "image/png": "[encoded data removed]",
      "text/plain": [
       "<Figure size 640x480 with 1 Axes>"
      ]
     },
     "metadata": {},
     "output_type": "display_data"
    },
    {
     "name": "stdout",
     "output_type": "stream",
     "text": [
      "Predicted value: a Actual value: a \n"
     ]
    },
    {
     "data": {
      "image/png": "[encoded data removed]",
      "text/plain": [
       "<Figure size 640x480 with 1 Axes>"
      ]
     },
     "metadata": {},
     "output_type": "display_data"
    },
    {
     "name": "stdout",
     "output_type": "stream",
     "text": [
      "Predicted value: O Actual value: a Wrong\n"
     ]
    },
    {
     "data": {
      "image/png": "[encoded data removed]",
      "text/plain": [
       "<Figure size 640x480 with 1 Axes>"
      ]
     },
     "metadata": {},
     "output_type": "display_data"
    },
    {
     "name": "stdout",
     "output_type": "stream",
     "text": [
      "Predicted value: 2 Actual value: 2 \n"
     ]
    },
    {
     "data": {
      "image/png": "[encoded data removed]",
      "text/plain": [
       "<Figure size 640x480 with 1 Axes>"
      ]
     },
     "metadata": {},
     "output_type": "display_data"
    },
    {
     "name": "stdout",
     "output_type": "stream",
     "text": [
      "Predicted value: F Actual value: F \n"
     ]
    },
    {
     "data": {
      "image/png": "[encoded data removed]",
      "text/plain": [
       "<Figure size 640x480 with 1 Axes>"
      ]
     },
     "metadata": {},
     "output_type": "display_data"
    },
    {
     "name": "stdout",
     "output_type": "stream",
     "text": [
      "Predicted value: e Actual value: B Wrong\n"
     ]
    }
   ],
   "source": [
    "# Plot predictions\n",
    "plotRandomPredictions(regKnnPredictions, X_test, y_test, 7)"
   ]
  },
  {
   "attachments": {},
   "cell_type": "markdown",
   "metadata": {},
   "source": [
    "### SVM"
   ]
  },
  {
   "cell_type": "code",
   "execution_count": 63,
   "metadata": {},
   "outputs": [
    {
     "data": {
      "text/plain": [
       "['/Users/pc/PythonDevEnv/dsenv/PFE/model/savedArtifacts/svmModel2.joblib']"
      ]
     },
     "execution_count": 63,
     "metadata": {},
     "output_type": "execute_result"
    }
   ],
   "source": [
    "# SVM\n",
    "from sklearn.svm import SVC\n",
    "\n",
    "# Model creation\n",
    "svmModel = SVC()\n",
    "\n",
    "# Training\n",
    "svmModel.fit(X_train, y_train)\n",
    "\n",
    "# Saving the model\n",
    "joblib.dump(svmModel, '/Users/pc/PythonDevEnv/dsenv/PFE/model/savedArtifacts/svmModel2.joblib')"
   ]
  },
  {
   "cell_type": "code",
   "execution_count": 21,
   "metadata": {},
   "outputs": [],
   "source": [
    "# Load saved model\n",
    "svmModel_loaded = joblib.load('/Users/pc/PythonDevEnv/dsenv/PFE/model/savedArtifacts/svmModel2.joblib')"
   ]
  },
  {
   "cell_type": "code",
   "execution_count": 67,
   "metadata": {},
   "outputs": [
    {
     "name": "stdout",
     "output_type": "stream",
     "text": [
      "SVM Accuracy Score: 0.8409574468085106\n",
      "SVM Classification Report:\n",
      "               precision    recall  f1-score   support\n",
      "\n",
      "           0       0.62      0.68      0.65       457\n",
      "           1       0.52      0.77      0.62       472\n",
      "           2       0.85      0.84      0.84       479\n",
      "           3       0.94      0.91      0.92       515\n",
      "           4       0.85      0.89      0.87       460\n",
      "           5       0.87      0.84      0.85       473\n",
      "           6       0.89      0.88      0.89       484\n",
      "           7       0.92      0.96      0.94       447\n",
      "           8       0.85      0.84      0.84       496\n",
      "           9       0.66      0.87      0.75       480\n",
      "          10       0.84      0.92      0.88       494\n",
      "          11       0.89      0.90      0.90       465\n",
      "          12       0.91      0.92      0.92       469\n",
      "          13       0.89      0.89      0.89       500\n",
      "          14       0.94      0.92      0.93       465\n",
      "          15       0.68      0.53      0.60       467\n",
      "          16       0.91      0.87      0.89       481\n",
      "          17       0.93      0.89      0.91       490\n",
      "          18       0.65      0.64      0.65       482\n",
      "          19       0.87      0.87      0.87       464\n",
      "          20       0.89      0.90      0.90       480\n",
      "          21       0.64      0.41      0.50       508\n",
      "          22       0.92      0.94      0.93       488\n",
      "          23       0.88      0.93      0.91       484\n",
      "          24       0.67      0.66      0.67       464\n",
      "          25       0.89      0.93      0.91       494\n",
      "          26       0.87      0.89      0.88       511\n",
      "          27       0.91      0.89      0.90       472\n",
      "          28       0.87      0.85      0.86       473\n",
      "          29       0.92      0.93      0.92       470\n",
      "          30       0.90      0.92      0.91       468\n",
      "          31       0.89      0.90      0.90       454\n",
      "          32       0.96      0.93      0.94       510\n",
      "          33       0.92      0.90      0.91       477\n",
      "          34       0.87      0.82      0.85       464\n",
      "          35       0.85      0.86      0.86       488\n",
      "          36       0.86      0.82      0.84       477\n",
      "          37       0.89      0.92      0.91       499\n",
      "          38       0.94      0.94      0.94       477\n",
      "          39       0.91      0.93      0.92       501\n",
      "          40       0.61      0.72      0.66       465\n",
      "          41       0.75      0.51      0.60       476\n",
      "          42       0.90      0.93      0.91       464\n",
      "          43       0.96      0.90      0.93       513\n",
      "          44       0.67      0.55      0.60       493\n",
      "          45       0.92      0.94      0.93       466\n",
      "          46       0.85      0.86      0.85       484\n",
      "\n",
      "    accuracy                           0.84     22560\n",
      "   macro avg       0.84      0.84      0.84     22560\n",
      "weighted avg       0.84      0.84      0.84     22560\n",
      "\n"
     ]
    }
   ],
   "source": [
    "# Predictions\n",
    "svmPredictions = svmModel_loaded.predict(X_test)\n",
    "\n",
    "# Accuracy Score\n",
    "print('SVM Accuracy Score:', accuracy_score(y_test, svmPredictions))\n",
    "\n",
    "# Classification Report\n",
    "print('SVM Classification Report:\\n', classification_report(y_test, svmPredictions))"
   ]
  },
  {
   "cell_type": "code",
   "execution_count": 68,
   "metadata": {},
   "outputs": [
    {
     "data": {
      "text/plain": [
       "['/Users/pc/PythonDevEnv/dsenv/PFE/model/savedArtifacts/svmPredictions2.joblib']"
      ]
     },
     "execution_count": 68,
     "metadata": {},
     "output_type": "execute_result"
    }
   ],
   "source": [
    "joblib.dump(svmPredictions, '/Users/pc/PythonDevEnv/dsenv/PFE/model/savedArtifacts/svmPredictions2.joblib')"
   ]
  },
  {
   "cell_type": "code",
   "execution_count": 69,
   "metadata": {},
   "outputs": [
    {
     "name": "stdout",
     "output_type": "stream",
     "text": [
      "SVM cross-validation score: 0.8338763297872342\n"
     ]
    }
   ],
   "source": [
    "# SVM cross-validation\n",
    "svmCVScore = cross_val_score(svmModel_loaded, X_train, y_train, cv = 5, scoring = 'accuracy').mean()\n",
    "\n",
    "print('SVM cross-validation score:', svmCVScore)"
   ]
  },
  {
   "cell_type": "code",
   "execution_count": 70,
   "metadata": {},
   "outputs": [
    {
     "data": {
      "text/plain": [
       "['/Users/pc/PythonDevEnv/dsenv/PFE/model/savedArtifacts/svmCVScore.joblib']"
      ]
     },
     "execution_count": 70,
     "metadata": {},
     "output_type": "execute_result"
    }
   ],
   "source": [
    "# Save cross-validation score\n",
    "joblib.dump(svmCVScore, '/Users/pc/PythonDevEnv/dsenv/PFE/model/savedArtifacts/svmCVScore.joblib')"
   ]
  },
  {
   "cell_type": "code",
   "execution_count": null,
   "metadata": {},
   "outputs": [],
   "source": [
    "# SVM regularization\n",
    "svmParams = {\n",
    "    'C': [0.1, 1, 10],\n",
    "    'gamma': ['scale', 'auto']\n",
    "}\n",
    "\n",
    "gridSvm = GridSearchCV(svmModel_loaded, svmParams, cv = 5, scoring = 'accuracy')"
   ]
  },
  {
   "cell_type": "code",
   "execution_count": null,
   "metadata": {},
   "outputs": [],
   "source": [
    "# Training the model\n",
    "gridSvm.fit(X_train, y_train)\n",
    "\n",
    "# Saving the model\n",
    "joblib.dump(gridSvm, '/Users/pc/PythonDevEnv/dsenv/PFE/model/savedArtifacts/gridSvm.joblib')"
   ]
  },
  {
   "cell_type": "code",
   "execution_count": null,
   "metadata": {},
   "outputs": [],
   "source": [
    "print('Best score:', gridSvm.best_score_)\n",
    "print('Best parameters:', gridSvm.best_params_)\n",
    "print('Best estimator:', gridSvm.best_estimator_)"
   ]
  },
  {
   "cell_type": "code",
   "execution_count": 35,
   "metadata": {},
   "outputs": [
    {
     "data": {
      "text/html": [
       "<style>#sk-container-id-1 {color: black;background-color: white;}#sk-container-id-1 pre{padding: 0;}#sk-container-id-1 div.sk-toggleable {background-color: white;}#sk-container-id-1 label.sk-toggleable__label {cursor: pointer;display: block;width: 100%;margin-bottom: 0;padding: 0.3em;box-sizing: border-box;text-align: center;}#sk-container-id-1 label.sk-toggleable__label-arrow:before {content: \"▸\";float: left;margin-right: 0.25em;color: #696969;}#sk-container-id-1 label.sk-toggleable__label-arrow:hover:before {color: black;}#sk-container-id-1 div.sk-estimator:hover label.sk-toggleable__label-arrow:before {color: black;}#sk-container-id-1 div.sk-toggleable__content {max-height: 0;max-width: 0;overflow: hidden;text-align: left;background-color: #f0f8ff;}#sk-container-id-1 div.sk-toggleable__content pre {margin: 0.2em;color: black;border-radius: 0.25em;background-color: #f0f8ff;}#sk-container-id-1 input.sk-toggleable__control:checked~div.sk-toggleable__content {max-height: 200px;max-width: 100%;overflow: auto;}#sk-container-id-1 input.sk-toggleable__control:checked~label.sk-toggleable__label-arrow:before {content: \"▾\";}#sk-container-id-1 div.sk-estimator input.sk-toggleable__control:checked~label.sk-toggleable__label {background-color: #d4ebff;}#sk-container-id-1 div.sk-label input.sk-toggleable__control:checked~label.sk-toggleable__label {background-color: #d4ebff;}#sk-container-id-1 input.sk-hidden--visually {border: 0;clip: rect(1px 1px 1px 1px);clip: rect(1px, 1px, 1px, 1px);height: 1px;margin: -1px;overflow: hidden;padding: 0;position: absolute;width: 1px;}#sk-container-id-1 div.sk-estimator {font-family: monospace;background-color: #f0f8ff;border: 1px dotted black;border-radius: 0.25em;box-sizing: border-box;margin-bottom: 0.5em;}#sk-container-id-1 div.sk-estimator:hover {background-color: #d4ebff;}#sk-container-id-1 div.sk-parallel-item::after {content: \"\";width: 100%;border-bottom: 1px solid gray;flex-grow: 1;}#sk-container-id-1 div.sk-label:hover label.sk-toggleable__label {background-color: #d4ebff;}#sk-container-id-1 div.sk-serial::before {content: \"\";position: absolute;border-left: 1px solid gray;box-sizing: border-box;top: 0;bottom: 0;left: 50%;z-index: 0;}#sk-container-id-1 div.sk-serial {display: flex;flex-direction: column;align-items: center;background-color: white;padding-right: 0.2em;padding-left: 0.2em;position: relative;}#sk-container-id-1 div.sk-item {position: relative;z-index: 1;}#sk-container-id-1 div.sk-parallel {display: flex;align-items: stretch;justify-content: center;background-color: white;position: relative;}#sk-container-id-1 div.sk-item::before, #sk-container-id-1 div.sk-parallel-item::before {content: \"\";position: absolute;border-left: 1px solid gray;box-sizing: border-box;top: 0;bottom: 0;left: 50%;z-index: -1;}#sk-container-id-1 div.sk-parallel-item {display: flex;flex-direction: column;z-index: 1;position: relative;background-color: white;}#sk-container-id-1 div.sk-parallel-item:first-child::after {align-self: flex-end;width: 50%;}#sk-container-id-1 div.sk-parallel-item:last-child::after {align-self: flex-start;width: 50%;}#sk-container-id-1 div.sk-parallel-item:only-child::after {width: 0;}#sk-container-id-1 div.sk-dashed-wrapped {border: 1px dashed gray;margin: 0 0.4em 0.5em 0.4em;box-sizing: border-box;padding-bottom: 0.4em;background-color: white;}#sk-container-id-1 div.sk-label label {font-family: monospace;font-weight: bold;display: inline-block;line-height: 1.2em;}#sk-container-id-1 div.sk-label-container {text-align: center;}#sk-container-id-1 div.sk-container {/* jupyter's `normalize.less` sets `[hidden] { display: none; }` but bootstrap.min.css set `[hidden] { display: none !important; }` so we also need the `!important` here to be able to override the default hidden behavior on the sphinx rendered scikit-learn.org. See: https://github.com/scikit-learn/scikit-learn/issues/21755 */display: inline-block !important;position: relative;}#sk-container-id-1 div.sk-text-repr-fallback {display: none;}</style><div id=\"sk-container-id-1\" class=\"sk-top-container\"><div class=\"sk-text-repr-fallback\"><pre>SVC()</pre><b>In a Jupyter environment, please rerun this cell to show the HTML representation or trust the notebook. <br />On GitHub, the HTML representation is unable to render, please try loading this page with nbviewer.org.</b></div><div class=\"sk-container\" hidden><div class=\"sk-item\"><div class=\"sk-estimator sk-toggleable\"><input class=\"sk-toggleable__control sk-hidden--visually\" id=\"sk-estimator-id-1\" type=\"checkbox\" checked><label for=\"sk-estimator-id-1\" class=\"sk-toggleable__label sk-toggleable__label-arrow\">SVC</label><div class=\"sk-toggleable__content\"><pre>SVC()</pre></div></div></div></div></div>"
      ],
      "text/plain": [
       "SVC()"
      ]
     },
     "execution_count": 35,
     "metadata": {},
     "output_type": "execute_result"
    }
   ],
   "source": [
    "from sklearn.svm import SVC\n",
    "\n",
    "# Regularized model\n",
    "regSvm = SVC(kernel = 'rbf', C = 1.0, gamma = 'scale')\n",
    "\n",
    "# Train regularized model\n",
    "regSvm.fit(X_train, y_train)"
   ]
  },
  {
   "cell_type": "code",
   "execution_count": 22,
   "metadata": {},
   "outputs": [],
   "source": [
    "# Predictions\n",
    "regSvmPredictions = svmModel_loaded.predict(X_test)"
   ]
  },
  {
   "cell_type": "code",
   "execution_count": 23,
   "metadata": {},
   "outputs": [
    {
     "name": "stdout",
     "output_type": "stream",
     "text": [
      "Accuracy score: 0.8409574468085106\n"
     ]
    }
   ],
   "source": [
    "# Accuracy score\n",
    "print(\"Accuracy score:\", accuracy_score(y_test, regSvmPredictions))"
   ]
  },
  {
   "cell_type": "code",
   "execution_count": 24,
   "metadata": {},
   "outputs": [
    {
     "data": {
      "image/png": "[encoded data removed]",
      "text/plain": [
       "<Figure size 640x480 with 1 Axes>"
      ]
     },
     "metadata": {},
     "output_type": "display_data"
    },
    {
     "name": "stdout",
     "output_type": "stream",
     "text": [
      "Predicted value: e Actual value: e \n"
     ]
    },
    {
     "data": {
      "image/png": "[encoded data removed]",
      "text/plain": [
       "<Figure size 640x480 with 1 Axes>"
      ]
     },
     "metadata": {},
     "output_type": "display_data"
    },
    {
     "name": "stdout",
     "output_type": "stream",
     "text": [
      "Predicted value: 5 Actual value: J Wrong\n"
     ]
    },
    {
     "data": {
      "image/png": "[encoded data removed]",
      "text/plain": [
       "<Figure size 640x480 with 1 Axes>"
      ]
     },
     "metadata": {},
     "output_type": "display_data"
    },
    {
     "name": "stdout",
     "output_type": "stream",
     "text": [
      "Predicted value: V Actual value: V \n"
     ]
    },
    {
     "data": {
      "image/png": "[encoded data removed]",
      "text/plain": [
       "<Figure size 640x480 with 1 Axes>"
      ]
     },
     "metadata": {},
     "output_type": "display_data"
    },
    {
     "name": "stdout",
     "output_type": "stream",
     "text": [
      "Predicted value: V Actual value: V \n"
     ]
    },
    {
     "data": {
      "image/png": "[encoded data removed]",
      "text/plain": [
       "<Figure size 640x480 with 1 Axes>"
      ]
     },
     "metadata": {},
     "output_type": "display_data"
    },
    {
     "name": "stdout",
     "output_type": "stream",
     "text": [
      "Predicted value: D Actual value: D \n"
     ]
    },
    {
     "data": {
      "image/png": "[encoded data removed]",
      "text/plain": [
       "<Figure size 640x480 with 1 Axes>"
      ]
     },
     "metadata": {},
     "output_type": "display_data"
    },
    {
     "name": "stdout",
     "output_type": "stream",
     "text": [
      "Predicted value: 3 Actual value: 3 \n"
     ]
    },
    {
     "data": {
      "image/png": "[encoded data removed]",
      "text/plain": [
       "<Figure size 640x480 with 1 Axes>"
      ]
     },
     "metadata": {},
     "output_type": "display_data"
    },
    {
     "name": "stdout",
     "output_type": "stream",
     "text": [
      "Predicted value: N Actual value: N \n"
     ]
    }
   ],
   "source": [
    "# Plot random predictions\n",
    "plotRandomPredictions(regSvmPredictions, X_test, y_test, 7)"
   ]
  },
  {
   "attachments": {},
   "cell_type": "markdown",
   "metadata": {},
   "source": [
    "### Random Forest"
   ]
  },
  {
   "cell_type": "code",
   "execution_count": null,
   "metadata": {},
   "outputs": [],
   "source": [
    "# Random forest\n",
    "from sklearn.ensemble import RandomForestClassifier\n",
    "\n",
    "# Define model\n",
    "rfModel = RandomForestClassifier(random_state = 42)\n",
    "\n",
    "# Training\n",
    "rfModel.fit(X_train, y_train)\n",
    "\n",
    "# Saving the model\n",
    "joblib.dump(rfModel, '/Users/pc/PythonDevEnv/dsenv/PFE/model/savedArtifacts/rfModel2.joblib')"
   ]
  },
  {
   "cell_type": "code",
   "execution_count": 11,
   "metadata": {},
   "outputs": [],
   "source": [
    "rfModel_loaded = joblib.load('/Users/pc/PythonDevEnv/dsenv/PFE/model/savedArtifacts/rfModel2.joblib')"
   ]
  },
  {
   "cell_type": "code",
   "execution_count": 11,
   "metadata": {},
   "outputs": [
    {
     "name": "stdout",
     "output_type": "stream",
     "text": [
      "RF Accuracy Score: 0.8060283687943263\n",
      "RF Classification Report:\n",
      "               precision    recall  f1-score   support\n",
      "\n",
      "           0       0.57      0.66      0.61       457\n",
      "           1       0.52      0.66      0.58       472\n",
      "           2       0.86      0.80      0.83       479\n",
      "           3       0.90      0.91      0.91       515\n",
      "           4       0.84      0.87      0.85       460\n",
      "           5       0.83      0.81      0.82       473\n",
      "           6       0.83      0.85      0.84       484\n",
      "           7       0.90      0.95      0.92       447\n",
      "           8       0.77      0.78      0.78       496\n",
      "           9       0.63      0.79      0.70       480\n",
      "          10       0.77      0.88      0.82       494\n",
      "          11       0.82      0.81      0.82       465\n",
      "          12       0.90      0.89      0.89       469\n",
      "          13       0.85      0.84      0.84       500\n",
      "          14       0.90      0.88      0.89       465\n",
      "          15       0.66      0.54      0.59       467\n",
      "          16       0.88      0.81      0.84       481\n",
      "          17       0.89      0.86      0.87       490\n",
      "          18       0.63      0.63      0.63       482\n",
      "          19       0.84      0.84      0.84       464\n",
      "          20       0.87      0.87      0.87       480\n",
      "          21       0.59      0.44      0.50       508\n",
      "          22       0.88      0.93      0.91       488\n",
      "          23       0.88      0.89      0.88       484\n",
      "          24       0.62      0.61      0.61       464\n",
      "          25       0.84      0.91      0.88       494\n",
      "          26       0.83      0.84      0.83       511\n",
      "          27       0.88      0.84      0.86       472\n",
      "          28       0.83      0.81      0.82       473\n",
      "          29       0.88      0.92      0.90       470\n",
      "          30       0.88      0.87      0.88       468\n",
      "          31       0.87      0.90      0.88       454\n",
      "          32       0.92      0.92      0.92       510\n",
      "          33       0.92      0.87      0.90       477\n",
      "          34       0.85      0.78      0.81       464\n",
      "          35       0.80      0.85      0.83       488\n",
      "          36       0.77      0.77      0.77       477\n",
      "          37       0.83      0.90      0.87       499\n",
      "          38       0.90      0.92      0.91       477\n",
      "          39       0.86      0.91      0.89       501\n",
      "          40       0.60      0.67      0.63       465\n",
      "          41       0.71      0.40      0.51       476\n",
      "          42       0.87      0.89      0.88       464\n",
      "          43       0.93      0.88      0.90       513\n",
      "          44       0.60      0.48      0.53       493\n",
      "          45       0.87      0.92      0.90       466\n",
      "          46       0.80      0.81      0.81       484\n",
      "\n",
      "    accuracy                           0.81     22560\n",
      "   macro avg       0.81      0.81      0.80     22560\n",
      "weighted avg       0.81      0.81      0.80     22560\n",
      "\n"
     ]
    }
   ],
   "source": [
    "# Predictions\n",
    "rfPredictions = rfModel_loaded.predict(X_test)\n",
    "\n",
    "# Accuracy Score\n",
    "print('RF Accuracy Score:', accuracy_score(y_test, rfPredictions))\n",
    "\n",
    "# Classification Report\n",
    "print('RF Classification Report:\\n', classification_report(y_test, rfPredictions))"
   ]
  },
  {
   "cell_type": "code",
   "execution_count": 11,
   "metadata": {},
   "outputs": [
    {
     "name": "stdout",
     "output_type": "stream",
     "text": [
      "RF cross-validation score: 0.8019281914893618\n"
     ]
    }
   ],
   "source": [
    "# RF cross-validation\n",
    "rfCVScore = cross_val_score(rfModel, X_train, y_train, cv = 5, scoring = 'accuracy').mean()\n",
    "\n",
    "print('RF cross-validation score:', rfCVScore)"
   ]
  },
  {
   "cell_type": "code",
   "execution_count": 12,
   "metadata": {},
   "outputs": [
    {
     "data": {
      "text/plain": [
       "['/Users/pc/PythonDevEnv/dsenv/PFE/model/savedArtifacts/rfCVScore.joblib']"
      ]
     },
     "execution_count": 12,
     "metadata": {},
     "output_type": "execute_result"
    }
   ],
   "source": [
    "# Save cross-validation score\n",
    "joblib.dump(rfCVScore, '/Users/pc/PythonDevEnv/dsenv/PFE/model/savedArtifacts/rfCVScore.joblib')"
   ]
  },
  {
   "cell_type": "code",
   "execution_count": 12,
   "metadata": {},
   "outputs": [],
   "source": [
    "# RF Regularization\n",
    "rfPrams = {\n",
    "    'n_estimators': [50, 100, 150],\n",
    "    'max_depth': [None, 10, 30, 50]\n",
    "}\n",
    "\n",
    "gridRf = GridSearchCV(rfModel_loaded, rfPrams, cv = 5, scoring = 'accuracy')"
   ]
  },
  {
   "cell_type": "code",
   "execution_count": 13,
   "metadata": {},
   "outputs": [
    {
     "data": {
      "text/plain": [
       "['/Users/pc/PythonDevEnv/dsenv/PFE/model/savedArtifacts/gridRf.joblib']"
      ]
     },
     "execution_count": 13,
     "metadata": {},
     "output_type": "execute_result"
    }
   ],
   "source": [
    "# Training the model\n",
    "gridRf.fit(X_train, y_train)\n",
    "\n",
    "# Saving the model\n",
    "joblib.dump(gridRf, '/Users/pc/PythonDevEnv/dsenv/PFE/model/savedArtifacts/gridRf.joblib')"
   ]
  },
  {
   "cell_type": "code",
   "execution_count": 14,
   "metadata": {},
   "outputs": [
    {
     "name": "stdout",
     "output_type": "stream",
     "text": [
      "Best score: 0.8052859042553193\n",
      "Best parameters: {'max_depth': None, 'n_estimators': 150}\n",
      "Best estimator: RandomForestClassifier(n_estimators=150, random_state=42)\n"
     ]
    }
   ],
   "source": [
    "print('Best score:', gridRf.best_score_)\n",
    "print('Best parameters:', gridRf.best_params_)\n",
    "print('Best estimator:', gridRf.best_estimator_)"
   ]
  },
  {
   "cell_type": "code",
   "execution_count": 16,
   "metadata": {},
   "outputs": [
    {
     "name": "stdout",
     "output_type": "stream",
     "text": [
      "sqrt\n",
      "1\n",
      "sqrt\n"
     ]
    }
   ],
   "source": [
    "print(rfModel_loaded.max_features)\n",
    "print(rfModel_loaded.min_samples_leaf)\n",
    "print(rfModel_loaded.max_features)"
   ]
  },
  {
   "cell_type": "code",
   "execution_count": 17,
   "metadata": {},
   "outputs": [
    {
     "data": {
      "text/plain": [
       "['/Users/pc/PythonDevEnv/dsenv/PFE/model/savedArtifacts/gridRf2.joblib']"
      ]
     },
     "execution_count": 17,
     "metadata": {},
     "output_type": "execute_result"
    }
   ],
   "source": [
    "# RF Regularization #2\n",
    "rfPrams2 = {\n",
    "    'n_estimators': [150, 250, 350]\n",
    "}\n",
    "\n",
    "gridRf2 = GridSearchCV(rfModel_loaded, rfPrams, cv = 5, scoring = 'accuracy')\n",
    "\n",
    "# Training the model\n",
    "gridRf2.fit(X_train, y_train)\n",
    "\n",
    "# Saving the model\n",
    "joblib.dump(gridRf2, '/Users/pc/PythonDevEnv/dsenv/PFE/model/savedArtifacts/gridRf2.joblib')"
   ]
  },
  {
   "cell_type": "code",
   "execution_count": 18,
   "metadata": {},
   "outputs": [
    {
     "name": "stdout",
     "output_type": "stream",
     "text": [
      "Best score: 0.8052859042553193\n",
      "Best parameters: {'max_depth': None, 'n_estimators': 150}\n",
      "Best estimator: RandomForestClassifier(n_estimators=150, random_state=42)\n"
     ]
    }
   ],
   "source": [
    "print('Best score:', gridRf2.best_score_)\n",
    "print('Best parameters:', gridRf2.best_params_)\n",
    "print('Best estimator:', gridRf2.best_estimator_)"
   ]
  },
  {
   "cell_type": "code",
   "execution_count": 20,
   "metadata": {},
   "outputs": [
    {
     "data": {
      "text/html": [
       "<style>#sk-container-id-1 {color: black;background-color: white;}#sk-container-id-1 pre{padding: 0;}#sk-container-id-1 div.sk-toggleable {background-color: white;}#sk-container-id-1 label.sk-toggleable__label {cursor: pointer;display: block;width: 100%;margin-bottom: 0;padding: 0.3em;box-sizing: border-box;text-align: center;}#sk-container-id-1 label.sk-toggleable__label-arrow:before {content: \"▸\";float: left;margin-right: 0.25em;color: #696969;}#sk-container-id-1 label.sk-toggleable__label-arrow:hover:before {color: black;}#sk-container-id-1 div.sk-estimator:hover label.sk-toggleable__label-arrow:before {color: black;}#sk-container-id-1 div.sk-toggleable__content {max-height: 0;max-width: 0;overflow: hidden;text-align: left;background-color: #f0f8ff;}#sk-container-id-1 div.sk-toggleable__content pre {margin: 0.2em;color: black;border-radius: 0.25em;background-color: #f0f8ff;}#sk-container-id-1 input.sk-toggleable__control:checked~div.sk-toggleable__content {max-height: 200px;max-width: 100%;overflow: auto;}#sk-container-id-1 input.sk-toggleable__control:checked~label.sk-toggleable__label-arrow:before {content: \"▾\";}#sk-container-id-1 div.sk-estimator input.sk-toggleable__control:checked~label.sk-toggleable__label {background-color: #d4ebff;}#sk-container-id-1 div.sk-label input.sk-toggleable__control:checked~label.sk-toggleable__label {background-color: #d4ebff;}#sk-container-id-1 input.sk-hidden--visually {border: 0;clip: rect(1px 1px 1px 1px);clip: rect(1px, 1px, 1px, 1px);height: 1px;margin: -1px;overflow: hidden;padding: 0;position: absolute;width: 1px;}#sk-container-id-1 div.sk-estimator {font-family: monospace;background-color: #f0f8ff;border: 1px dotted black;border-radius: 0.25em;box-sizing: border-box;margin-bottom: 0.5em;}#sk-container-id-1 div.sk-estimator:hover {background-color: #d4ebff;}#sk-container-id-1 div.sk-parallel-item::after {content: \"\";width: 100%;border-bottom: 1px solid gray;flex-grow: 1;}#sk-container-id-1 div.sk-label:hover label.sk-toggleable__label {background-color: #d4ebff;}#sk-container-id-1 div.sk-serial::before {content: \"\";position: absolute;border-left: 1px solid gray;box-sizing: border-box;top: 0;bottom: 0;left: 50%;z-index: 0;}#sk-container-id-1 div.sk-serial {display: flex;flex-direction: column;align-items: center;background-color: white;padding-right: 0.2em;padding-left: 0.2em;position: relative;}#sk-container-id-1 div.sk-item {position: relative;z-index: 1;}#sk-container-id-1 div.sk-parallel {display: flex;align-items: stretch;justify-content: center;background-color: white;position: relative;}#sk-container-id-1 div.sk-item::before, #sk-container-id-1 div.sk-parallel-item::before {content: \"\";position: absolute;border-left: 1px solid gray;box-sizing: border-box;top: 0;bottom: 0;left: 50%;z-index: -1;}#sk-container-id-1 div.sk-parallel-item {display: flex;flex-direction: column;z-index: 1;position: relative;background-color: white;}#sk-container-id-1 div.sk-parallel-item:first-child::after {align-self: flex-end;width: 50%;}#sk-container-id-1 div.sk-parallel-item:last-child::after {align-self: flex-start;width: 50%;}#sk-container-id-1 div.sk-parallel-item:only-child::after {width: 0;}#sk-container-id-1 div.sk-dashed-wrapped {border: 1px dashed gray;margin: 0 0.4em 0.5em 0.4em;box-sizing: border-box;padding-bottom: 0.4em;background-color: white;}#sk-container-id-1 div.sk-label label {font-family: monospace;font-weight: bold;display: inline-block;line-height: 1.2em;}#sk-container-id-1 div.sk-label-container {text-align: center;}#sk-container-id-1 div.sk-container {/* jupyter's `normalize.less` sets `[hidden] { display: none; }` but bootstrap.min.css set `[hidden] { display: none !important; }` so we also need the `!important` here to be able to override the default hidden behavior on the sphinx rendered scikit-learn.org. See: https://github.com/scikit-learn/scikit-learn/issues/21755 */display: inline-block !important;position: relative;}#sk-container-id-1 div.sk-text-repr-fallback {display: none;}</style><div id=\"sk-container-id-1\" class=\"sk-top-container\"><div class=\"sk-text-repr-fallback\"><pre>RandomForestClassifier(n_estimators=150, random_state=42)</pre><b>In a Jupyter environment, please rerun this cell to show the HTML representation or trust the notebook. <br />On GitHub, the HTML representation is unable to render, please try loading this page with nbviewer.org.</b></div><div class=\"sk-container\" hidden><div class=\"sk-item\"><div class=\"sk-estimator sk-toggleable\"><input class=\"sk-toggleable__control sk-hidden--visually\" id=\"sk-estimator-id-1\" type=\"checkbox\" checked><label for=\"sk-estimator-id-1\" class=\"sk-toggleable__label sk-toggleable__label-arrow\">RandomForestClassifier</label><div class=\"sk-toggleable__content\"><pre>RandomForestClassifier(n_estimators=150, random_state=42)</pre></div></div></div></div></div>"
      ],
      "text/plain": [
       "RandomForestClassifier(n_estimators=150, random_state=42)"
      ]
     },
     "execution_count": 20,
     "metadata": {},
     "output_type": "execute_result"
    }
   ],
   "source": [
    "from sklearn.ensemble import RandomForestClassifier\n",
    "\n",
    "# Regularized model\n",
    "regRf = RandomForestClassifier(n_estimators = 150, random_state = 42)\n",
    "\n",
    "regRf.fit(X_train, y_train)"
   ]
  },
  {
   "cell_type": "code",
   "execution_count": 21,
   "metadata": {},
   "outputs": [],
   "source": [
    "# Predictions\n",
    "regRfPredictions = regRf.predict(X_test)"
   ]
  },
  {
   "cell_type": "code",
   "execution_count": 22,
   "metadata": {},
   "outputs": [
    {
     "name": "stdout",
     "output_type": "stream",
     "text": [
      "Regularized RF accuracy score: 0.8094414893617021\n"
     ]
    }
   ],
   "source": [
    "# Accuracy after regularization\n",
    "print('Regularized RF accuracy score:', accuracy_score(y_test, regRfPredictions))"
   ]
  },
  {
   "cell_type": "code",
   "execution_count": 28,
   "metadata": {},
   "outputs": [
    {
     "data": {
      "image/png": "[encoded data removed]",
      "text/plain": [
       "<Figure size 640x480 with 1 Axes>"
      ]
     },
     "metadata": {},
     "output_type": "display_data"
    },
    {
     "name": "stdout",
     "output_type": "stream",
     "text": [
      "Predicted value: r Actual value: r \n"
     ]
    },
    {
     "data": {
      "image/png": "[encoded data removed]",
      "text/plain": [
       "<Figure size 640x480 with 1 Axes>"
      ]
     },
     "metadata": {},
     "output_type": "display_data"
    },
    {
     "name": "stdout",
     "output_type": "stream",
     "text": [
      "Predicted value: t Actual value: t \n"
     ]
    },
    {
     "data": {
      "image/png": "[encoded data removed]",
      "text/plain": [
       "<Figure size 640x480 with 1 Axes>"
      ]
     },
     "metadata": {},
     "output_type": "display_data"
    },
    {
     "name": "stdout",
     "output_type": "stream",
     "text": [
      "Predicted value: Z Actual value: Z \n"
     ]
    },
    {
     "data": {
      "image/png": "[encoded data removed]",
      "text/plain": [
       "<Figure size 640x480 with 1 Axes>"
      ]
     },
     "metadata": {},
     "output_type": "display_data"
    },
    {
     "name": "stdout",
     "output_type": "stream",
     "text": [
      "Predicted value: O Actual value: 0 Wrong\n"
     ]
    },
    {
     "data": {
      "image/png": "[encoded data removed]",
      "text/plain": [
       "<Figure size 640x480 with 1 Axes>"
      ]
     },
     "metadata": {},
     "output_type": "display_data"
    },
    {
     "name": "stdout",
     "output_type": "stream",
     "text": [
      "Predicted value: Q Actual value: Q \n"
     ]
    },
    {
     "data": {
      "image/png": "[encoded data removed]",
      "text/plain": [
       "<Figure size 640x480 with 1 Axes>"
      ]
     },
     "metadata": {},
     "output_type": "display_data"
    },
    {
     "name": "stdout",
     "output_type": "stream",
     "text": [
      "Predicted value: 9 Actual value: 9 \n"
     ]
    },
    {
     "data": {
      "image/png": "[encoded data removed]",
      "text/plain": [
       "<Figure size 640x480 with 1 Axes>"
      ]
     },
     "metadata": {},
     "output_type": "display_data"
    },
    {
     "name": "stdout",
     "output_type": "stream",
     "text": [
      "Predicted value: J Actual value: J \n"
     ]
    }
   ],
   "source": [
    "# Plot random predictions\n",
    "plotRandomPredictions(regRfPredictions, X_test, y_test, 7)"
   ]
  },
  {
   "attachments": {},
   "cell_type": "markdown",
   "metadata": {},
   "source": [
    "### MLP"
   ]
  },
  {
   "cell_type": "code",
   "execution_count": 12,
   "metadata": {},
   "outputs": [],
   "source": [
    "# Transform labels\n",
    "from keras.utils import to_categorical\n",
    "\n",
    "numberOfClasses = 47\n",
    "\n",
    "y_train = to_categorical(y_train, numberOfClasses)\n",
    "y_test = to_categorical(y_test, numberOfClasses)"
   ]
  },
  {
   "cell_type": "code",
   "execution_count": 11,
   "metadata": {},
   "outputs": [],
   "source": [
    "# keras version\n",
    "from keras.models import Sequential\n",
    "from keras.layers import Dense, Dropout\n",
    "from keras.optimizers import Adam\n",
    "from keras.callbacks import EarlyStopping, ReduceLROnPlateau, ModelCheckpoint\n",
    "from keras.models import save_model, load_model\n",
    "import cv2"
   ]
  },
  {
   "cell_type": "code",
   "execution_count": 12,
   "metadata": {},
   "outputs": [],
   "source": [
    "mlpModel = Sequential()\n",
    "\n",
    "mlpModel.add(Dense(512, activation = 'relu', input_shape = (784,)))\n",
    "mlpModel.add(Dense(256, activation = 'relu'))\n",
    "\n",
    "# mlpModel.add(Dropout(0.2))\n",
    "\n",
    "mlpModel.add(Dense(256, activation = 'relu'))\n",
    "# mlpModel.add(Dropout(0.2))\n",
    "\n",
    "mlpModel.add(Dense(256, activation = 'relu'))\n",
    "# mlpModel.add(Dropout(0.2))\n",
    "\n",
    "mlpModel.add(Dense(numberOfClasses, activation = 'softmax'))"
   ]
  },
  {
   "cell_type": "code",
   "execution_count": 13,
   "metadata": {},
   "outputs": [],
   "source": [
    "mlpModel.compile(optimizer = Adam(), loss = 'categorical_crossentropy', metrics = ['accuracy'])"
   ]
  },
  {
   "cell_type": "code",
   "execution_count": 14,
   "metadata": {},
   "outputs": [],
   "source": [
    "# Save best points when the model is improving\n",
    "mlpModel_best_points_path = '/Users/pc/PythonDevEnv/dsenv/PFE/model/savedArtifacts/mlpModel_Best_points.h5'\n",
    "MCP = ModelCheckpoint(mlpModel_best_points_path, verbose = 1, save_best_only = True, monitor = 'val_accuracy', mode = 'max')\n",
    "\n",
    "# Early stop when the model stops improving\n",
    "ES = EarlyStopping(monitor = 'val_accuracy', min_delta = 0, verbose = 0, restore_best_weights = True, patience = 3, mode = 'max')\n",
    "\n",
    "# Reduce the learning rate when the model stops improving, val_loss specifically\n",
    "RLP = ReduceLROnPlateau(monitor = 'val_loss', patience = 3, factor = 0.2, min_lr = 0.0001)"
   ]
  },
  {
   "cell_type": "code",
   "execution_count": 15,
   "metadata": {},
   "outputs": [
    {
     "name": "stdout",
     "output_type": "stream",
     "text": [
      "Epoch 1/20\n",
      "2818/2820 [============================>.] - ETA: 0s - loss: 0.8923 - accuracy: 0.7207\n",
      "Epoch 1: val_accuracy improved from -inf to 0.78488, saving model to /Users/pc/PythonDevEnv/dsenv/PFE/model/savedArtifacts\\mlpModel_Best_points.h5\n",
      "2820/2820 [==============================] - 32s 10ms/step - loss: 0.8921 - accuracy: 0.7207 - val_loss: 0.6455 - val_accuracy: 0.7849 - lr: 0.0010\n",
      "Epoch 2/20\n",
      "2818/2820 [============================>.] - ETA: 0s - loss: 0.5543 - accuracy: 0.8116\n",
      "Epoch 2: val_accuracy improved from 0.78488 to 0.81560, saving model to /Users/pc/PythonDevEnv/dsenv/PFE/model/savedArtifacts\\mlpModel_Best_points.h5\n",
      "2820/2820 [==============================] - 26s 9ms/step - loss: 0.5543 - accuracy: 0.8116 - val_loss: 0.5492 - val_accuracy: 0.8156 - lr: 0.0010\n",
      "Epoch 3/20\n",
      "2814/2820 [============================>.] - ETA: 0s - loss: 0.4768 - accuracy: 0.8337\n",
      "Epoch 3: val_accuracy improved from 0.81560 to 0.81986, saving model to /Users/pc/PythonDevEnv/dsenv/PFE/model/savedArtifacts\\mlpModel_Best_points.h5\n",
      "2820/2820 [==============================] - 26s 9ms/step - loss: 0.4769 - accuracy: 0.8337 - val_loss: 0.5459 - val_accuracy: 0.8199 - lr: 0.0010\n",
      "Epoch 4/20\n",
      "2818/2820 [============================>.] - ETA: 0s - loss: 0.4221 - accuracy: 0.8494\n",
      "Epoch 4: val_accuracy improved from 0.81986 to 0.82487, saving model to /Users/pc/PythonDevEnv/dsenv/PFE/model/savedArtifacts\\mlpModel_Best_points.h5\n",
      "2820/2820 [==============================] - 27s 9ms/step - loss: 0.4220 - accuracy: 0.8494 - val_loss: 0.5503 - val_accuracy: 0.8249 - lr: 0.0010\n",
      "Epoch 5/20\n",
      "2818/2820 [============================>.] - ETA: 0s - loss: 0.3864 - accuracy: 0.8603\n",
      "Epoch 5: val_accuracy improved from 0.82487 to 0.82886, saving model to /Users/pc/PythonDevEnv/dsenv/PFE/model/savedArtifacts\\mlpModel_Best_points.h5\n",
      "2820/2820 [==============================] - 39s 14ms/step - loss: 0.3864 - accuracy: 0.8603 - val_loss: 0.5175 - val_accuracy: 0.8289 - lr: 0.0010\n",
      "Epoch 6/20\n",
      "2819/2820 [============================>.] - ETA: 0s - loss: 0.3628 - accuracy: 0.8669\n",
      "Epoch 6: val_accuracy improved from 0.82886 to 0.83107, saving model to /Users/pc/PythonDevEnv/dsenv/PFE/model/savedArtifacts\\mlpModel_Best_points.h5\n",
      "2820/2820 [==============================] - 32s 11ms/step - loss: 0.3627 - accuracy: 0.8669 - val_loss: 0.5396 - val_accuracy: 0.8311 - lr: 0.0010\n",
      "Epoch 7/20\n",
      "2816/2820 [============================>.] - ETA: 0s - loss: 0.3425 - accuracy: 0.8727\n",
      "Epoch 7: val_accuracy improved from 0.83107 to 0.83471, saving model to /Users/pc/PythonDevEnv/dsenv/PFE/model/savedArtifacts\\mlpModel_Best_points.h5\n",
      "2820/2820 [==============================] - 36s 13ms/step - loss: 0.3426 - accuracy: 0.8727 - val_loss: 0.5512 - val_accuracy: 0.8347 - lr: 0.0010\n",
      "Epoch 8/20\n",
      "2819/2820 [============================>.] - ETA: 0s - loss: 0.3250 - accuracy: 0.8785\n",
      "Epoch 8: val_accuracy improved from 0.83471 to 0.83537, saving model to /Users/pc/PythonDevEnv/dsenv/PFE/model/savedArtifacts\\mlpModel_Best_points.h5\n",
      "2820/2820 [==============================] - 36s 13ms/step - loss: 0.3249 - accuracy: 0.8785 - val_loss: 0.5354 - val_accuracy: 0.8354 - lr: 0.0010\n",
      "Epoch 9/20\n",
      "2816/2820 [============================>.] - ETA: 0s - loss: 0.2151 - accuracy: 0.9136\n",
      "Epoch 9: val_accuracy improved from 0.83537 to 0.86139, saving model to /Users/pc/PythonDevEnv/dsenv/PFE/model/savedArtifacts\\mlpModel_Best_points.h5\n",
      "2820/2820 [==============================] - 30s 11ms/step - loss: 0.2152 - accuracy: 0.9136 - val_loss: 0.4780 - val_accuracy: 0.8614 - lr: 2.0000e-04\n",
      "Epoch 10/20\n",
      "2818/2820 [============================>.] - ETA: 0s - loss: 0.1776 - accuracy: 0.9255\n",
      "Epoch 10: val_accuracy improved from 0.86139 to 0.86157, saving model to /Users/pc/PythonDevEnv/dsenv/PFE/model/savedArtifacts\\mlpModel_Best_points.h5\n",
      "2820/2820 [==============================] - 27s 10ms/step - loss: 0.1777 - accuracy: 0.9254 - val_loss: 0.5126 - val_accuracy: 0.8616 - lr: 2.0000e-04\n",
      "Epoch 11/20\n",
      "2815/2820 [============================>.] - ETA: 0s - loss: 0.1583 - accuracy: 0.9327\n",
      "Epoch 11: val_accuracy did not improve from 0.86157\n",
      "2820/2820 [==============================] - 29s 10ms/step - loss: 0.1584 - accuracy: 0.9326 - val_loss: 0.5486 - val_accuracy: 0.8613 - lr: 2.0000e-04\n",
      "Epoch 12/20\n",
      "2816/2820 [============================>.] - ETA: 0s - loss: 0.1421 - accuracy: 0.9387\n",
      "Epoch 12: val_accuracy did not improve from 0.86157\n",
      "2820/2820 [==============================] - 27s 9ms/step - loss: 0.1422 - accuracy: 0.9387 - val_loss: 0.5907 - val_accuracy: 0.8609 - lr: 2.0000e-04\n",
      "Epoch 13/20\n",
      "2819/2820 [============================>.] - ETA: 0s - loss: 0.1212 - accuracy: 0.9476\n",
      "Epoch 13: val_accuracy improved from 0.86157 to 0.86281, saving model to /Users/pc/PythonDevEnv/dsenv/PFE/model/savedArtifacts\\mlpModel_Best_points.h5\n",
      "2820/2820 [==============================] - 27s 10ms/step - loss: 0.1211 - accuracy: 0.9476 - val_loss: 0.6348 - val_accuracy: 0.8628 - lr: 1.0000e-04\n",
      "Epoch 14/20\n",
      "2820/2820 [==============================] - ETA: 0s - loss: 0.1118 - accuracy: 0.9513\n",
      "Epoch 14: val_accuracy did not improve from 0.86281\n",
      "2820/2820 [==============================] - 28s 10ms/step - loss: 0.1118 - accuracy: 0.9513 - val_loss: 0.6867 - val_accuracy: 0.8610 - lr: 1.0000e-04\n",
      "Epoch 15/20\n",
      "2816/2820 [============================>.] - ETA: 0s - loss: 0.1040 - accuracy: 0.9551\n",
      "Epoch 15: val_accuracy did not improve from 0.86281\n",
      "2820/2820 [==============================] - 28s 10ms/step - loss: 0.1040 - accuracy: 0.9551 - val_loss: 0.7216 - val_accuracy: 0.8627 - lr: 1.0000e-04\n",
      "Epoch 16/20\n",
      "2818/2820 [============================>.] - ETA: 0s - loss: 0.0977 - accuracy: 0.9582\n",
      "Epoch 16: val_accuracy did not improve from 0.86281\n",
      "2820/2820 [==============================] - 28s 10ms/step - loss: 0.0977 - accuracy: 0.9582 - val_loss: 0.7655 - val_accuracy: 0.8598 - lr: 1.0000e-04\n"
     ]
    }
   ],
   "source": [
    "# Model training\n",
    "mlpModel_history = mlpModel.fit(X_train, y_train, epochs = 20, validation_data = (X_test, y_test), callbacks = [MCP, ES, RLP])"
   ]
  },
  {
   "cell_type": "code",
   "execution_count": 16,
   "metadata": {},
   "outputs": [
    {
     "name": "stdout",
     "output_type": "stream",
     "text": [
      "705/705 - 4s - loss: 0.6348 - accuracy: 0.8628 - 4s/epoch - 5ms/step\n",
      "Test score: 0.6347954273223877\n",
      "Test accuracy: 0.8628102540969849\n"
     ]
    }
   ],
   "source": [
    "score = mlpModel.evaluate(X_test, y_test, verbose = 2)\n",
    "print(\"Test score:\", score[0])\n",
    "print('Test accuracy:', score[1])"
   ]
  },
  {
   "cell_type": "code",
   "execution_count": 17,
   "metadata": {},
   "outputs": [],
   "source": [
    "# Saving the model\n",
    "save_model(mlpModel, '/Users/pc/PythonDevEnv/dsenv/PFE/model/savedArtifacts/mlpModel_attempt1.h5')"
   ]
  },
  {
   "cell_type": "code",
   "execution_count": 11,
   "metadata": {},
   "outputs": [],
   "source": [
    "# Load the model\n",
    "mlpModel_loaded = load_model('/Users/pc/PythonDevEnv/dsenv/PFE/model/savedArtifacts/mlpModel_attempt1.h5')"
   ]
  },
  {
   "cell_type": "code",
   "execution_count": 21,
   "metadata": {},
   "outputs": [],
   "source": [
    "# Regularization using L2 Regularization and dropout layers\n",
    "from keras import regularizers\n",
    "\n",
    "# Function to create an MLP model\n",
    "def createMlpModel(hiddenLayers = (256,), dropoutRate = 0.0, alpha = 0.0):\n",
    "    model = Sequential()\n",
    "    model.add(Dense(hiddenLayers[0], activation = 'relu', input_shape = (784,)))\n",
    "    model.add(Dropout(dropoutRate))\n",
    "    \n",
    "    for units in hiddenLayers[1:]:\n",
    "        model.add(Dense(units, activation = 'relu', kernel_regularizer = regularizers.l2(alpha)))\n",
    "        model.add(Dropout(dropoutRate))\n",
    "        \n",
    "    model.add(Dense(numberOfClasses, activation = 'softmax'))\n",
    "    \n",
    "    model.compile(optimizer = Adam(), loss = 'categorical_crossentropy', metrics = ['accuracy'])\n",
    "    return model"
   ]
  },
  {
   "cell_type": "code",
   "execution_count": 22,
   "metadata": {},
   "outputs": [
    {
     "name": "stderr",
     "output_type": "stream",
     "text": [
      "C:\\Users\\pc\\AppData\\Local\\Temp\\ipykernel_5500\\1687717899.py:4: DeprecationWarning: KerasClassifier is deprecated, use Sci-Keras (https://github.com/adriangb/scikeras) instead. See https://www.adriangb.com/scikeras/stable/migration.html for help migrating.\n",
      "  kerasClassifier = KerasClassifier(build_fn = createMlpModel, verbose = 0)\n"
     ]
    }
   ],
   "source": [
    "# Create the Keras classifier wrapper, to make the function compatible with scikit-learn's GridSearchCV\n",
    "from keras.wrappers.scikit_learn import KerasClassifier\n",
    "\n",
    "kerasClassifier = KerasClassifier(build_fn = createMlpModel, verbose = 0)\n",
    "\n",
    "# Define the parameter grid\n",
    "mlpParams = {\n",
    "    'hiddenLayers': [(512, 256, 256, 256), (512, 256, 256, 128), (256, 128, 128)],\n",
    "    'dropoutRate': [0.0, 0.2, 0.5],\n",
    "    'alpha': [0.0, 0.01, 0.1]\n",
    "}\n",
    "\n",
    "# Perform grid search\n",
    "gridMlp = GridSearchCV(kerasClassifier, mlpParams, cv = 5)"
   ]
  },
  {
   "cell_type": "code",
   "execution_count": 23,
   "metadata": {},
   "outputs": [
    {
     "data": {
      "text/html": [
       "<style>#sk-container-id-1 {color: black;background-color: white;}#sk-container-id-1 pre{padding: 0;}#sk-container-id-1 div.sk-toggleable {background-color: white;}#sk-container-id-1 label.sk-toggleable__label {cursor: pointer;display: block;width: 100%;margin-bottom: 0;padding: 0.3em;box-sizing: border-box;text-align: center;}#sk-container-id-1 label.sk-toggleable__label-arrow:before {content: \"▸\";float: left;margin-right: 0.25em;color: #696969;}#sk-container-id-1 label.sk-toggleable__label-arrow:hover:before {color: black;}#sk-container-id-1 div.sk-estimator:hover label.sk-toggleable__label-arrow:before {color: black;}#sk-container-id-1 div.sk-toggleable__content {max-height: 0;max-width: 0;overflow: hidden;text-align: left;background-color: #f0f8ff;}#sk-container-id-1 div.sk-toggleable__content pre {margin: 0.2em;color: black;border-radius: 0.25em;background-color: #f0f8ff;}#sk-container-id-1 input.sk-toggleable__control:checked~div.sk-toggleable__content {max-height: 200px;max-width: 100%;overflow: auto;}#sk-container-id-1 input.sk-toggleable__control:checked~label.sk-toggleable__label-arrow:before {content: \"▾\";}#sk-container-id-1 div.sk-estimator input.sk-toggleable__control:checked~label.sk-toggleable__label {background-color: #d4ebff;}#sk-container-id-1 div.sk-label input.sk-toggleable__control:checked~label.sk-toggleable__label {background-color: #d4ebff;}#sk-container-id-1 input.sk-hidden--visually {border: 0;clip: rect(1px 1px 1px 1px);clip: rect(1px, 1px, 1px, 1px);height: 1px;margin: -1px;overflow: hidden;padding: 0;position: absolute;width: 1px;}#sk-container-id-1 div.sk-estimator {font-family: monospace;background-color: #f0f8ff;border: 1px dotted black;border-radius: 0.25em;box-sizing: border-box;margin-bottom: 0.5em;}#sk-container-id-1 div.sk-estimator:hover {background-color: #d4ebff;}#sk-container-id-1 div.sk-parallel-item::after {content: \"\";width: 100%;border-bottom: 1px solid gray;flex-grow: 1;}#sk-container-id-1 div.sk-label:hover label.sk-toggleable__label {background-color: #d4ebff;}#sk-container-id-1 div.sk-serial::before {content: \"\";position: absolute;border-left: 1px solid gray;box-sizing: border-box;top: 0;bottom: 0;left: 50%;z-index: 0;}#sk-container-id-1 div.sk-serial {display: flex;flex-direction: column;align-items: center;background-color: white;padding-right: 0.2em;padding-left: 0.2em;position: relative;}#sk-container-id-1 div.sk-item {position: relative;z-index: 1;}#sk-container-id-1 div.sk-parallel {display: flex;align-items: stretch;justify-content: center;background-color: white;position: relative;}#sk-container-id-1 div.sk-item::before, #sk-container-id-1 div.sk-parallel-item::before {content: \"\";position: absolute;border-left: 1px solid gray;box-sizing: border-box;top: 0;bottom: 0;left: 50%;z-index: -1;}#sk-container-id-1 div.sk-parallel-item {display: flex;flex-direction: column;z-index: 1;position: relative;background-color: white;}#sk-container-id-1 div.sk-parallel-item:first-child::after {align-self: flex-end;width: 50%;}#sk-container-id-1 div.sk-parallel-item:last-child::after {align-self: flex-start;width: 50%;}#sk-container-id-1 div.sk-parallel-item:only-child::after {width: 0;}#sk-container-id-1 div.sk-dashed-wrapped {border: 1px dashed gray;margin: 0 0.4em 0.5em 0.4em;box-sizing: border-box;padding-bottom: 0.4em;background-color: white;}#sk-container-id-1 div.sk-label label {font-family: monospace;font-weight: bold;display: inline-block;line-height: 1.2em;}#sk-container-id-1 div.sk-label-container {text-align: center;}#sk-container-id-1 div.sk-container {/* jupyter's `normalize.less` sets `[hidden] { display: none; }` but bootstrap.min.css set `[hidden] { display: none !important; }` so we also need the `!important` here to be able to override the default hidden behavior on the sphinx rendered scikit-learn.org. See: https://github.com/scikit-learn/scikit-learn/issues/21755 */display: inline-block !important;position: relative;}#sk-container-id-1 div.sk-text-repr-fallback {display: none;}</style><div id=\"sk-container-id-1\" class=\"sk-top-container\"><div class=\"sk-text-repr-fallback\"><pre>GridSearchCV(cv=5,\n",
       "             estimator=&lt;keras.wrappers.scikit_learn.KerasClassifier object at 0x00000154C3A549A0&gt;,\n",
       "             param_grid={&#x27;alpha&#x27;: [0.0, 0.01, 0.1],\n",
       "                         &#x27;dropoutRate&#x27;: [0.0, 0.2, 0.5],\n",
       "                         &#x27;hiddenLayers&#x27;: [(512, 256, 256, 256),\n",
       "                                          (512, 256, 256, 128),\n",
       "                                          (256, 128, 128)]})</pre><b>In a Jupyter environment, please rerun this cell to show the HTML representation or trust the notebook. <br />On GitHub, the HTML representation is unable to render, please try loading this page with nbviewer.org.</b></div><div class=\"sk-container\" hidden><div class=\"sk-item sk-dashed-wrapped\"><div class=\"sk-label-container\"><div class=\"sk-label sk-toggleable\"><input class=\"sk-toggleable__control sk-hidden--visually\" id=\"sk-estimator-id-1\" type=\"checkbox\" ><label for=\"sk-estimator-id-1\" class=\"sk-toggleable__label sk-toggleable__label-arrow\">GridSearchCV</label><div class=\"sk-toggleable__content\"><pre>GridSearchCV(cv=5,\n",
       "             estimator=&lt;keras.wrappers.scikit_learn.KerasClassifier object at 0x00000154C3A549A0&gt;,\n",
       "             param_grid={&#x27;alpha&#x27;: [0.0, 0.01, 0.1],\n",
       "                         &#x27;dropoutRate&#x27;: [0.0, 0.2, 0.5],\n",
       "                         &#x27;hiddenLayers&#x27;: [(512, 256, 256, 256),\n",
       "                                          (512, 256, 256, 128),\n",
       "                                          (256, 128, 128)]})</pre></div></div></div><div class=\"sk-parallel\"><div class=\"sk-parallel-item\"><div class=\"sk-item\"><div class=\"sk-label-container\"><div class=\"sk-label sk-toggleable\"><input class=\"sk-toggleable__control sk-hidden--visually\" id=\"sk-estimator-id-2\" type=\"checkbox\" ><label for=\"sk-estimator-id-2\" class=\"sk-toggleable__label sk-toggleable__label-arrow\">estimator: KerasClassifier</label><div class=\"sk-toggleable__content\"><pre>&lt;keras.wrappers.scikit_learn.KerasClassifier object at 0x00000154C3A549A0&gt;</pre></div></div></div><div class=\"sk-serial\"><div class=\"sk-item\"><div class=\"sk-estimator sk-toggleable\"><input class=\"sk-toggleable__control sk-hidden--visually\" id=\"sk-estimator-id-3\" type=\"checkbox\" ><label for=\"sk-estimator-id-3\" class=\"sk-toggleable__label sk-toggleable__label-arrow\">KerasClassifier</label><div class=\"sk-toggleable__content\"><pre>&lt;keras.wrappers.scikit_learn.KerasClassifier object at 0x00000154C3A549A0&gt;</pre></div></div></div></div></div></div></div></div></div></div>"
      ],
      "text/plain": [
       "GridSearchCV(cv=5,\n",
       "             estimator=<keras.wrappers.scikit_learn.KerasClassifier object at 0x00000154C3A549A0>,\n",
       "             param_grid={'alpha': [0.0, 0.01, 0.1],\n",
       "                         'dropoutRate': [0.0, 0.2, 0.5],\n",
       "                         'hiddenLayers': [(512, 256, 256, 256),\n",
       "                                          (512, 256, 256, 128),\n",
       "                                          (256, 128, 128)]})"
      ]
     },
     "execution_count": 23,
     "metadata": {},
     "output_type": "execute_result"
    }
   ],
   "source": [
    "gridMlp.fit(X_train, y_train)"
   ]
  },
  {
   "cell_type": "code",
   "execution_count": 24,
   "metadata": {},
   "outputs": [
    {
     "name": "stdout",
     "output_type": "stream",
     "text": [
      "Best score: 0.7789782762527466\n",
      "Best parameters: {'alpha': 0.0, 'dropoutRate': 0.0, 'hiddenLayers': (512, 256, 256, 256)}\n",
      "Best estimator: <keras.wrappers.scikit_learn.KerasClassifier object at 0x00000154C4D13250>\n"
     ]
    }
   ],
   "source": [
    "print('Best score:', gridMlp.best_score_)\n",
    "print('Best parameters:', gridMlp.best_params_)\n",
    "print('Best estimator:', gridMlp.best_estimator_)"
   ]
  },
  {
   "cell_type": "code",
   "execution_count": 29,
   "metadata": {},
   "outputs": [],
   "source": [
    "# Saving the model\n",
    "regMlp = gridMlp.best_estimator_.model\n",
    "\n",
    "save_model(regMlp, '/Users/pc/PythonDevEnv/dsenv/PFE/model/savedArtifacts/regMlp1.h5')"
   ]
  },
  {
   "cell_type": "code",
   "execution_count": 37,
   "metadata": {},
   "outputs": [],
   "source": [
    "regMlpModel_best_points_path = '/Users/pc/PythonDevEnv/dsenv/PFE/model/savedArtifacts/regMlpModel_Best_points.h5'\n",
    "regMCP = ModelCheckpoint(regMlpModel_best_points_path, verbose = 1, save_best_only = True, monitor = 'val_accuracy', mode = 'max')\n",
    "regES = EarlyStopping(monitor = 'val_accuracy', min_delta = 0, verbose = 0, restore_best_weights = True, patience = 3, mode = 'max')\n",
    "regRLP = ReduceLROnPlateau(monitor = 'val_loss', patience = 3, factor = 0.2, min_lr = 0.0001)"
   ]
  },
  {
   "cell_type": "code",
   "execution_count": 38,
   "metadata": {},
   "outputs": [
    {
     "name": "stdout",
     "output_type": "stream",
     "text": [
      "Epoch 1/20\n",
      "2811/2820 [============================>.] - ETA: 0s - loss: 0.5486 - accuracy: 0.8127\n",
      "Epoch 1: val_accuracy improved from -inf to 0.82039, saving model to /Users/pc/PythonDevEnv/dsenv/PFE/model/savedArtifacts\\regMlpModel_Best_points.h5\n",
      "2820/2820 [==============================] - 18s 6ms/step - loss: 0.5482 - accuracy: 0.8128 - val_loss: 0.5370 - val_accuracy: 0.8204 - lr: 0.0010\n",
      "Epoch 2/20\n",
      "2820/2820 [==============================] - ETA: 0s - loss: 0.4726 - accuracy: 0.8350\n",
      "Epoch 2: val_accuracy did not improve from 0.82039\n",
      "2820/2820 [==============================] - 17s 6ms/step - loss: 0.4726 - accuracy: 0.8350 - val_loss: 0.5374 - val_accuracy: 0.8151 - lr: 0.0010\n",
      "Epoch 3/20\n",
      "2818/2820 [============================>.] - ETA: 0s - loss: 0.4230 - accuracy: 0.8499\n",
      "Epoch 3: val_accuracy improved from 0.82039 to 0.82420, saving model to /Users/pc/PythonDevEnv/dsenv/PFE/model/savedArtifacts\\regMlpModel_Best_points.h5\n",
      "2820/2820 [==============================] - 17s 6ms/step - loss: 0.4230 - accuracy: 0.8499 - val_loss: 0.5283 - val_accuracy: 0.8242 - lr: 0.0010\n",
      "Epoch 4/20\n",
      "2817/2820 [============================>.] - ETA: 0s - loss: 0.3866 - accuracy: 0.8607\n",
      "Epoch 4: val_accuracy improved from 0.82420 to 0.83360, saving model to /Users/pc/PythonDevEnv/dsenv/PFE/model/savedArtifacts\\regMlpModel_Best_points.h5\n",
      "2820/2820 [==============================] - 17s 6ms/step - loss: 0.3864 - accuracy: 0.8607 - val_loss: 0.5095 - val_accuracy: 0.8336 - lr: 0.0010\n",
      "Epoch 5/20\n",
      "2814/2820 [============================>.] - ETA: 0s - loss: 0.3602 - accuracy: 0.8683\n",
      "Epoch 5: val_accuracy improved from 0.83360 to 0.83444, saving model to /Users/pc/PythonDevEnv/dsenv/PFE/model/savedArtifacts\\regMlpModel_Best_points.h5\n",
      "2820/2820 [==============================] - 17s 6ms/step - loss: 0.3600 - accuracy: 0.8684 - val_loss: 0.5361 - val_accuracy: 0.8344 - lr: 0.0010\n",
      "Epoch 6/20\n",
      "2813/2820 [============================>.] - ETA: 0s - loss: 0.3392 - accuracy: 0.8750\n",
      "Epoch 6: val_accuracy did not improve from 0.83444\n",
      "2820/2820 [==============================] - 16s 6ms/step - loss: 0.3394 - accuracy: 0.8749 - val_loss: 0.5241 - val_accuracy: 0.8344 - lr: 0.0010\n",
      "Epoch 7/20\n",
      "2815/2820 [============================>.] - ETA: 0s - loss: 0.3254 - accuracy: 0.8797\n",
      "Epoch 7: val_accuracy improved from 0.83444 to 0.83887, saving model to /Users/pc/PythonDevEnv/dsenv/PFE/model/savedArtifacts\\regMlpModel_Best_points.h5\n",
      "2820/2820 [==============================] - 17s 6ms/step - loss: 0.3256 - accuracy: 0.8796 - val_loss: 0.5354 - val_accuracy: 0.8389 - lr: 0.0010\n",
      "Epoch 8/20\n",
      "2816/2820 [============================>.] - ETA: 0s - loss: 0.2159 - accuracy: 0.9134\n",
      "Epoch 8: val_accuracy improved from 0.83887 to 0.86321, saving model to /Users/pc/PythonDevEnv/dsenv/PFE/model/savedArtifacts\\regMlpModel_Best_points.h5\n",
      "2820/2820 [==============================] - 17s 6ms/step - loss: 0.2158 - accuracy: 0.9134 - val_loss: 0.4730 - val_accuracy: 0.8632 - lr: 2.0000e-04\n",
      "Epoch 9/20\n",
      "2814/2820 [============================>.] - ETA: 0s - loss: 0.1781 - accuracy: 0.9255\n",
      "Epoch 9: val_accuracy did not improve from 0.86321\n",
      "2820/2820 [==============================] - 17s 6ms/step - loss: 0.1780 - accuracy: 0.9255 - val_loss: 0.5056 - val_accuracy: 0.8628 - lr: 2.0000e-04\n",
      "Epoch 10/20\n",
      "2814/2820 [============================>.] - ETA: 0s - loss: 0.1587 - accuracy: 0.9332\n",
      "Epoch 10: val_accuracy did not improve from 0.86321\n",
      "2820/2820 [==============================] - 17s 6ms/step - loss: 0.1587 - accuracy: 0.9332 - val_loss: 0.5487 - val_accuracy: 0.8615 - lr: 2.0000e-04\n",
      "Epoch 11/20\n",
      "2817/2820 [============================>.] - ETA: 0s - loss: 0.1434 - accuracy: 0.9385\n",
      "Epoch 11: val_accuracy did not improve from 0.86321\n",
      "2820/2820 [==============================] - 17s 6ms/step - loss: 0.1433 - accuracy: 0.9385 - val_loss: 0.5925 - val_accuracy: 0.8579 - lr: 2.0000e-04\n"
     ]
    }
   ],
   "source": [
    "regMlp_history = regMlp.fit(X_train, y_train, epochs = 20, validation_data = (X_test, y_test), callbacks = [regMCP, regES, regRLP])"
   ]
  },
  {
   "cell_type": "code",
   "execution_count": 73,
   "metadata": {},
   "outputs": [
    {
     "data": {
      "text/plain": [
       "Text(0, 0.5, 'Accuracy')"
      ]
     },
     "execution_count": 73,
     "metadata": {},
     "output_type": "execute_result"
    },
    {
     "data": {
      "image/png": "[encoded data removed]",
      "text/plain": [
       "<Figure size 640x480 with 1 Axes>"
      ]
     },
     "metadata": {},
     "output_type": "display_data"
    }
   ],
   "source": [
    "import seaborn as sns\n",
    "length = len(regMlp_history.history['accuracy'])\n",
    "\n",
    "plt.figsize = (10,10)\n",
    "sns.lineplot(x = range(1, 1 + length), y = regMlp_history.history['accuracy'], label = 'Accuracy')\n",
    "sns.lineplot(x = range(1, 1 + length), y = regMlp_history.history['val_accuracy'], label = 'Val_Accuracy')\n",
    "plt.xlabel('Epochs')\n",
    "plt.ylabel('Accuracy')"
   ]
  },
  {
   "cell_type": "code",
   "execution_count": 39,
   "metadata": {},
   "outputs": [
    {
     "name": "stdout",
     "output_type": "stream",
     "text": [
      "705/705 - 2s - loss: 0.4730 - accuracy: 0.8632 - 2s/epoch - 3ms/step\n",
      "Test score: 0.47301483154296875\n",
      "Test accuracy: 0.8632092475891113\n"
     ]
    }
   ],
   "source": [
    "score = regMlp.evaluate(X_test, y_test, verbose = 2)\n",
    "print(\"Test score:\", score[0])\n",
    "print('Test accuracy:', score[1])"
   ]
  },
  {
   "cell_type": "code",
   "execution_count": 40,
   "metadata": {},
   "outputs": [],
   "source": [
    "# Saving trained regularized model\n",
    "save_model(regMlp, '/Users/pc/PythonDevEnv/dsenv/PFE/model/savedArtifacts/regMlp2.h5')"
   ]
  },
  {
   "cell_type": "code",
   "execution_count": 41,
   "metadata": {},
   "outputs": [
    {
     "name": "stdout",
     "output_type": "stream",
     "text": [
      "705/705 [==============================] - 3s 4ms/step\n"
     ]
    }
   ],
   "source": [
    "# Predictions\n",
    "regMlpPredictions = regMlp.predict(X_test)"
   ]
  },
  {
   "cell_type": "code",
   "execution_count": 71,
   "metadata": {},
   "outputs": [],
   "source": [
    "def plotRandomPredictionsForMLP(predictions, test_X, test_y, n_samples = 5):\n",
    "    predSamples = np.random.choice(len(predictions), size = n_samples).astype(int)\n",
    "\n",
    "    for j in predSamples:\n",
    "        predicted = np.argmax(predictions[j])\n",
    "        actual = np.argmax(test_y[j])\n",
    "\n",
    "        image = test_X[j]\n",
    "        plt.subplot(3, 5, 2)\n",
    "        plt.imshow(image.reshape(28, 28), cmap = 'gray')\n",
    "        plt.axis('off')\n",
    "        plt.show()\n",
    "\n",
    "        print(\"Predicted:\", labelsDict[predicted], \"Actual:\", labelsDict[actual], '' if predicted == actual else 'Wrong')"
   ]
  },
  {
   "cell_type": "code",
   "execution_count": 72,
   "metadata": {},
   "outputs": [
    {
     "data": {
      "image/png": "[encoded data removed]",
      "text/plain": [
       "<Figure size 640x480 with 1 Axes>"
      ]
     },
     "metadata": {},
     "output_type": "display_data"
    },
    {
     "name": "stdout",
     "output_type": "stream",
     "text": [
      "Predicted: V Actual: V \n"
     ]
    },
    {
     "data": {
      "image/png": "[encoded data removed]",
      "text/plain": [
       "<Figure size 640x480 with 1 Axes>"
      ]
     },
     "metadata": {},
     "output_type": "display_data"
    },
    {
     "name": "stdout",
     "output_type": "stream",
     "text": [
      "Predicted: a Actual: a \n"
     ]
    },
    {
     "data": {
      "image/png": "[encoded data removed]",
      "text/plain": [
       "<Figure size 640x480 with 1 Axes>"
      ]
     },
     "metadata": {},
     "output_type": "display_data"
    },
    {
     "name": "stdout",
     "output_type": "stream",
     "text": [
      "Predicted: b Actual: h Wrong\n"
     ]
    },
    {
     "data": {
      "image/png": "[encoded data removed]",
      "text/plain": [
       "<Figure size 640x480 with 1 Axes>"
      ]
     },
     "metadata": {},
     "output_type": "display_data"
    },
    {
     "name": "stdout",
     "output_type": "stream",
     "text": [
      "Predicted: 1 Actual: 1 \n"
     ]
    },
    {
     "data": {
      "image/png": "[encoded data removed]",
      "text/plain": [
       "<Figure size 640x480 with 1 Axes>"
      ]
     },
     "metadata": {},
     "output_type": "display_data"
    },
    {
     "name": "stdout",
     "output_type": "stream",
     "text": [
      "Predicted: r Actual: r \n"
     ]
    },
    {
     "data": {
      "image/png": "[encoded data removed]",
      "text/plain": [
       "<Figure size 640x480 with 1 Axes>"
      ]
     },
     "metadata": {},
     "output_type": "display_data"
    },
    {
     "name": "stdout",
     "output_type": "stream",
     "text": [
      "Predicted: O Actual: 0 Wrong\n"
     ]
    },
    {
     "data": {
      "image/png": "[encoded data removed]",
      "text/plain": [
       "<Figure size 640x480 with 1 Axes>"
      ]
     },
     "metadata": {},
     "output_type": "display_data"
    },
    {
     "name": "stdout",
     "output_type": "stream",
     "text": [
      "Predicted: F Actual: F \n"
     ]
    }
   ],
   "source": [
    "plotRandomPredictionsForMLP(regMlpPredictions, X_test, y_test, 7)"
   ]
  },
  {
   "attachments": {},
   "cell_type": "markdown",
   "metadata": {},
   "source": [
    "## Train the model with Augmented data"
   ]
  },
  {
   "cell_type": "code",
   "execution_count": 18,
   "metadata": {},
   "outputs": [],
   "source": [
    "mergedData = pd.read_csv('/Users/pc/PythonDevEnv/dsenv/PFE/dataset/merged_emnist_balanced_dataset.csv')"
   ]
  },
  {
   "cell_type": "code",
   "execution_count": 19,
   "metadata": {},
   "outputs": [
    {
     "name": "stdout",
     "output_type": "stream",
     "text": [
      "Data shape: (131600, 785)\n"
     ]
    }
   ],
   "source": [
    "print('Data shape:', mergedData.shape)"
   ]
  },
  {
   "cell_type": "code",
   "execution_count": 20,
   "metadata": {},
   "outputs": [
    {
     "name": "stdout",
     "output_type": "stream",
     "text": [
      "Train shape: (131600, 784)\n",
      "Test shape: (131600,)\n"
     ]
    }
   ],
   "source": [
    "XFull = mergedData.iloc[:, 1:].values\n",
    "yFull = mergedData.iloc[:, 0].values\n",
    "\n",
    "print('Train shape:', XFull.shape)\n",
    "print('Test shape:', yFull.shape)"
   ]
  },
  {
   "cell_type": "code",
   "execution_count": 21,
   "metadata": {},
   "outputs": [],
   "source": [
    "XFull = XFull / 255"
   ]
  },
  {
   "cell_type": "code",
   "execution_count": 22,
   "metadata": {},
   "outputs": [],
   "source": [
    "X_train2, X_test2, y_train2, y_test2 = train_test_split(XFull, yFull, test_size = 0.2, random_state = 42)"
   ]
  },
  {
   "cell_type": "code",
   "execution_count": 23,
   "metadata": {},
   "outputs": [
    {
     "name": "stdout",
     "output_type": "stream",
     "text": [
      "X_train shape: (105280, 784) y_train shape: (105280,)\n",
      "X_test shape: (26320, 784) y_test shape: (26320,)\n"
     ]
    }
   ],
   "source": [
    "print('X_train shape:', X_train2.shape, 'y_train shape:', y_train2.shape)\n",
    "print('X_test shape:', X_test2.shape, 'y_test shape:', y_test2.shape)"
   ]
  },
  {
   "cell_type": "code",
   "execution_count": 24,
   "metadata": {},
   "outputs": [],
   "source": [
    "y_train2 = to_categorical(y_train2, numberOfClasses)\n",
    "y_test2 = to_categorical(y_test2, numberOfClasses)"
   ]
  },
  {
   "cell_type": "code",
   "execution_count": 26,
   "metadata": {},
   "outputs": [],
   "source": [
    "regMlp2 = load_model('/Users/pc/PythonDevEnv/dsenv/PFE/model/savedArtifacts/regMlp1.h5')"
   ]
  },
  {
   "cell_type": "code",
   "execution_count": 27,
   "metadata": {},
   "outputs": [],
   "source": [
    "regMlpModel_best_points_path2 = '/Users/pc/PythonDevEnv/dsenv/PFE/model/savedArtifacts/regMlpModel_Best_points_with_fullData.h5'\n",
    "regMCP2 = ModelCheckpoint(regMlpModel_best_points_path2, verbose = 1, save_best_only = True, monitor = 'val_accuracy', mode = 'max')\n",
    "regES2 = EarlyStopping(monitor = 'val_accuracy', min_delta = 0, verbose = 0, restore_best_weights = True, patience = 3, mode = 'max')\n",
    "regRLP2 = ReduceLROnPlateau(monitor = 'val_loss', patience = 3, factor = 0.2, min_lr = 0.0001)"
   ]
  },
  {
   "cell_type": "code",
   "execution_count": 28,
   "metadata": {},
   "outputs": [
    {
     "name": "stdout",
     "output_type": "stream",
     "text": [
      "Epoch 1/30\n",
      "3290/3290 [==============================] - ETA: 0s - loss: 0.7498 - accuracy: 0.7591\n",
      "Epoch 1: val_accuracy improved from -inf to 0.80395, saving model to /Users/pc/PythonDevEnv/dsenv/PFE/model/savedArtifacts\\regMlpModel_Best_points_with_fullData.h5\n",
      "3290/3290 [==============================] - 30s 8ms/step - loss: 0.7498 - accuracy: 0.7591 - val_loss: 0.5797 - val_accuracy: 0.8040 - lr: 0.0010\n",
      "Epoch 2/30\n",
      "3284/3290 [============================>.] - ETA: 0s - loss: 0.5096 - accuracy: 0.8250\n",
      "Epoch 2: val_accuracy improved from 0.80395 to 0.81512, saving model to /Users/pc/PythonDevEnv/dsenv/PFE/model/savedArtifacts\\regMlpModel_Best_points_with_fullData.h5\n",
      "3290/3290 [==============================] - 19s 6ms/step - loss: 0.5096 - accuracy: 0.8251 - val_loss: 0.5666 - val_accuracy: 0.8151 - lr: 0.0010\n",
      "Epoch 3/30\n",
      "3285/3290 [============================>.] - ETA: 0s - loss: 0.4457 - accuracy: 0.8432\n",
      "Epoch 3: val_accuracy improved from 0.81512 to 0.82382, saving model to /Users/pc/PythonDevEnv/dsenv/PFE/model/savedArtifacts\\regMlpModel_Best_points_with_fullData.h5\n",
      "3290/3290 [==============================] - 19s 6ms/step - loss: 0.4457 - accuracy: 0.8432 - val_loss: 0.5350 - val_accuracy: 0.8238 - lr: 0.0010\n",
      "Epoch 4/30\n",
      "3286/3290 [============================>.] - ETA: 0s - loss: 0.4093 - accuracy: 0.8542\n",
      "Epoch 4: val_accuracy improved from 0.82382 to 0.82834, saving model to /Users/pc/PythonDevEnv/dsenv/PFE/model/savedArtifacts\\regMlpModel_Best_points_with_fullData.h5\n",
      "3290/3290 [==============================] - 20s 6ms/step - loss: 0.4092 - accuracy: 0.8542 - val_loss: 0.5160 - val_accuracy: 0.8283 - lr: 0.0010\n",
      "Epoch 5/30\n",
      "3283/3290 [============================>.] - ETA: 0s - loss: 0.3755 - accuracy: 0.8649\n",
      "Epoch 5: val_accuracy improved from 0.82834 to 0.83214, saving model to /Users/pc/PythonDevEnv/dsenv/PFE/model/savedArtifacts\\regMlpModel_Best_points_with_fullData.h5\n",
      "3290/3290 [==============================] - 19s 6ms/step - loss: 0.3757 - accuracy: 0.8648 - val_loss: 0.5140 - val_accuracy: 0.8321 - lr: 0.0010\n",
      "Epoch 6/30\n",
      "3286/3290 [============================>.] - ETA: 0s - loss: 0.3555 - accuracy: 0.8708\n",
      "Epoch 6: val_accuracy did not improve from 0.83214\n",
      "3290/3290 [==============================] - 19s 6ms/step - loss: 0.3555 - accuracy: 0.8708 - val_loss: 0.5281 - val_accuracy: 0.8321 - lr: 0.0010\n",
      "Epoch 7/30\n",
      "3288/3290 [============================>.] - ETA: 0s - loss: 0.3365 - accuracy: 0.8765\n",
      "Epoch 7: val_accuracy improved from 0.83214 to 0.83963, saving model to /Users/pc/PythonDevEnv/dsenv/PFE/model/savedArtifacts\\regMlpModel_Best_points_with_fullData.h5\n",
      "3290/3290 [==============================] - 19s 6ms/step - loss: 0.3366 - accuracy: 0.8765 - val_loss: 0.5262 - val_accuracy: 0.8396 - lr: 0.0010\n",
      "Epoch 8/30\n",
      "3288/3290 [============================>.] - ETA: 0s - loss: 0.3254 - accuracy: 0.8798\n",
      "Epoch 8: val_accuracy did not improve from 0.83963\n",
      "3290/3290 [==============================] - 20s 6ms/step - loss: 0.3253 - accuracy: 0.8798 - val_loss: 0.5435 - val_accuracy: 0.8354 - lr: 0.0010\n",
      "Epoch 9/30\n",
      "3286/3290 [============================>.] - ETA: 0s - loss: 0.2240 - accuracy: 0.9112\n",
      "Epoch 9: val_accuracy improved from 0.83963 to 0.86185, saving model to /Users/pc/PythonDevEnv/dsenv/PFE/model/savedArtifacts\\regMlpModel_Best_points_with_fullData.h5\n",
      "3290/3290 [==============================] - 19s 6ms/step - loss: 0.2240 - accuracy: 0.9112 - val_loss: 0.4842 - val_accuracy: 0.8619 - lr: 2.0000e-04\n",
      "Epoch 10/30\n",
      "3282/3290 [============================>.] - ETA: 0s - loss: 0.1837 - accuracy: 0.9251\n",
      "Epoch 10: val_accuracy did not improve from 0.86185\n",
      "3290/3290 [==============================] - 18s 6ms/step - loss: 0.1836 - accuracy: 0.9251 - val_loss: 0.5253 - val_accuracy: 0.8580 - lr: 2.0000e-04\n",
      "Epoch 11/30\n",
      "3289/3290 [============================>.] - ETA: 0s - loss: 0.1642 - accuracy: 0.9314\n",
      "Epoch 11: val_accuracy did not improve from 0.86185\n",
      "3290/3290 [==============================] - 17s 5ms/step - loss: 0.1642 - accuracy: 0.9314 - val_loss: 0.5556 - val_accuracy: 0.8600 - lr: 2.0000e-04\n",
      "Epoch 12/30\n",
      "3282/3290 [============================>.] - ETA: 0s - loss: 0.1490 - accuracy: 0.9368\n",
      "Epoch 12: val_accuracy did not improve from 0.86185\n",
      "3290/3290 [==============================] - 19s 6ms/step - loss: 0.1490 - accuracy: 0.9368 - val_loss: 0.6119 - val_accuracy: 0.8585 - lr: 2.0000e-04\n"
     ]
    }
   ],
   "source": [
    "regMlp_history2 = regMlp2.fit(X_train2, y_train2, epochs = 30, validation_data = (X_test2, y_test2), callbacks = [regMCP2, regES2, regRLP2])"
   ]
  },
  {
   "attachments": {},
   "cell_type": "markdown",
   "metadata": {},
   "source": [
    "### Accuracy didn't change at all !!!"
   ]
  },
  {
   "attachments": {},
   "cell_type": "markdown",
   "metadata": {},
   "source": [
    "## UI"
   ]
  },
  {
   "cell_type": "code",
   "execution_count": 13,
   "metadata": {},
   "outputs": [],
   "source": [
    "# MLP\n",
    "regMlpModel_loaded = load_model('/Users/pc/PythonDevEnv/dsenv/PFE/model/savedArtifacts/regMlp2.h5')\n",
    "\n",
    "# SVM\n",
    "# svmModel_loaded2 = joblib.load('/Users/pc/PythonDevEnv/dsenv/PFE/model/savedArtifacts/svmModel2.joblib')"
   ]
  },
  {
   "cell_type": "code",
   "execution_count": 15,
   "metadata": {},
   "outputs": [
    {
     "name": "stdout",
     "output_type": "stream",
     "text": [
      "1/1 [==============================] - 0s 86ms/step\n",
      "Label entry No. 0: 0\n"
     ]
    },
    {
     "data": {
      "image/png": "[encoded data removed]",
      "text/plain": [
       "<Figure size 640x480 with 1 Axes>"
      ]
     },
     "metadata": {},
     "output_type": "display_data"
    }
   ],
   "source": [
    "# Load the image\n",
    "image = cv2.imread('../testImages/test7.jpg')\n",
    "\n",
    "# Convert to grayscale\n",
    "gray = cv2.cvtColor(image, cv2.COLOR_BGR2GRAY)\n",
    "\n",
    "# Check if the background is black or white\n",
    "average_color = np.mean(gray)\n",
    "if average_color > 127:  # If average color is above threshold (e.g., 127), consider it as white background\n",
    "    # Invert the image\n",
    "    inverted = cv2.bitwise_not(gray)\n",
    "    processed_image = inverted\n",
    "else:\n",
    "    processed_image = gray\n",
    "\n",
    "# Resize the image to 28x28 pixels\n",
    "resized = cv2.resize(processed_image, (28, 28), interpolation = cv2.INTER_CUBIC)\n",
    "\n",
    "# Reshape the image to match the input shape of the model\n",
    "image_array = resized.reshape((1, 784))\n",
    "\n",
    "# Transform the image array to grayscale values between 0 and 255\n",
    "image_array = image_array.astype('int64') / 255\n",
    "\n",
    "# Prediction using MLP\n",
    "y_pred2 = regMlpModel_loaded.predict(image_array)\n",
    "pred2 = np.argmax(y_pred2)\n",
    "\n",
    "# Prediction using SVM\n",
    "# y_pred3 = svmModel_loaded2.predict(image_array)\n",
    "# pred3 = np.argmax(y_pred3)\n",
    "\n",
    "print(f\"Label entry No. {pred2}:\", labelsDict[pred2])\n",
    "\n",
    "# Display the image\n",
    "plt.imshow(resized, cmap = plt.cm.gray)\n",
    "plt.show()"
   ]
  },
  {
   "cell_type": "code",
   "execution_count": 25,
   "metadata": {},
   "outputs": [],
   "source": [
    "def processImage(image):\n",
    "    # image = cv2.imread(image)\n",
    "\n",
    "    gray = cv2.cvtColor(image, cv2.COLOR_BGR2GRAY)\n",
    "\n",
    "    average_color = np.mean(gray)\n",
    "    if average_color > 127:\n",
    "        inverted = cv2.bitwise_not(gray)\n",
    "        processed_image = inverted\n",
    "    else:\n",
    "        processed_image = gray\n",
    "\n",
    "    resized = cv2.resize(processed_image, (28, 28), interpolation=cv2.INTER_CUBIC)\n",
    "\n",
    "    image_array = resized.reshape((1, 784))\n",
    "\n",
    "    image_array = image_array.astype('int64') / 255\n",
    "    \n",
    "    return image_array, resized"
   ]
  },
  {
   "cell_type": "code",
   "execution_count": 24,
   "metadata": {},
   "outputs": [
    {
     "name": "stdout",
     "output_type": "stream",
     "text": [
      "1/1 [==============================] - 0s 65ms/step\n",
      "Predicted: A\n"
     ]
    },
    {
     "data": {
      "image/png": "[encoded data removed]",
      "text/plain": [
       "<Figure size 640x480 with 1 Axes>"
      ]
     },
     "metadata": {},
     "output_type": "display_data"
    }
   ],
   "source": [
    "# using MLP\n",
    "testImage, resizedImage = processImage('../testImages/test7.jpg')\n",
    "prediction = np.argmax(regMlpModel_loaded.predict(testImage))\n",
    "\n",
    "print(f\"Predicted:\", labelsDict[prediction])\n",
    "\n",
    "plt.imshow(resizedImage, cmap = 'gray')\n",
    "plt.show()"
   ]
  },
  {
   "cell_type": "code",
   "execution_count": 16,
   "metadata": {},
   "outputs": [],
   "source": [
    "import gradio as gr\n",
    "\n",
    "def modelFunction(imageInput):\n",
    "    testImage, _ = processImage(imageInput)\n",
    "    prediction = np.argmax(regMlpModel_loaded.predict(testImage))\n",
    "    output = labelsDict[prediction]\n",
    "    \n",
    "    return f'Symbol is: {output}'"
   ]
  },
  {
   "cell_type": "code",
   "execution_count": 17,
   "metadata": {},
   "outputs": [
    {
     "name": "stdout",
     "output_type": "stream",
     "text": [
      "Running on local URL:  http://127.0.0.1:7860\n",
      "\n",
      "To create a public link, set `share=True` in `launch()`.\n"
     ]
    },
    {
     "data": {
      "text/html": [
       "<div><iframe src=\"http://127.0.0.1:7860/\" width=\"100%\" height=\"500\" allow=\"autoplay; camera; microphone; clipboard-read; clipboard-write;\" frameborder=\"0\" allowfullscreen></iframe></div>"
      ],
      "text/plain": [
       "<IPython.core.display.HTML object>"
      ]
     },
     "metadata": {},
     "output_type": "display_data"
    },
    {
     "data": {
      "text/plain": []
     },
     "execution_count": 17,
     "metadata": {},
     "output_type": "execute_result"
    }
   ],
   "source": [
    "interface = gr.Interface(fn = modelFunction, inputs = \"image\", outputs = \"text\")\n",
    "interface.launch()"
   ]
  },
  {
   "cell_type": "code",
   "execution_count": 18,
   "metadata": {},
   "outputs": [],
   "source": [
    "def modelFunction_sketch(sketchInput):\n",
    "    # Convert sketch to image\n",
    "    sketch = sketchInput.copy()\n",
    "    sketch = cv2.cvtColor(sketch, cv2.COLOR_GRAY2BGR)\n",
    "\n",
    "    # Preprocess image\n",
    "    testImage, _ = processImage(sketch)\n",
    "    prediction = np.argmax(regMlpModel_loaded.predict(testImage))\n",
    "    output = labelsDict[prediction]\n",
    "\n",
    "    return f'Symbol is: {output}'"
   ]
  },
  {
   "cell_type": "code",
   "execution_count": 20,
   "metadata": {},
   "outputs": [
    {
     "name": "stdout",
     "output_type": "stream",
     "text": [
      "Running on local URL:  http://127.0.0.1:7862\n",
      "\n",
      "To create a public link, set `share=True` in `launch()`.\n"
     ]
    },
    {
     "data": {
      "text/html": [
       "<div><iframe src=\"http://127.0.0.1:7862/\" width=\"100%\" height=\"500\" allow=\"autoplay; camera; microphone; clipboard-read; clipboard-write;\" frameborder=\"0\" allowfullscreen></iframe></div>"
      ],
      "text/plain": [
       "<IPython.core.display.HTML object>"
      ]
     },
     "metadata": {},
     "output_type": "display_data"
    },
    {
     "data": {
      "text/plain": []
     },
     "execution_count": 20,
     "metadata": {},
     "output_type": "execute_result"
    },
    {
     "name": "stdout",
     "output_type": "stream",
     "text": [
      "1/1 [==============================] - 1s 848ms/step\n",
      "1/1 [==============================] - 0s 139ms/step\n",
      "1/1 [==============================] - 0s 95ms/step\n",
      "1/1 [==============================] - 0s 77ms/step\n",
      "1/1 [==============================] - 0s 72ms/step\n"
     ]
    }
   ],
   "source": [
    "iface = gr.Interface(fn = modelFunction_sketch, inputs = \"sketchpad\", outputs = \"text\")\n",
    "iface.launch()"
   ]
  }
 ],
 "metadata": {
  "kernelspec": {
   "display_name": "datascienceEnv",
   "language": "python",
   "name": "python3"
  },
  "language_info": {
   "codemirror_mode": {
    "name": "ipython",
    "version": 3
   },
   "file_extension": ".py",
   "mimetype": "text/x-python",
   "name": "python",
   "nbconvert_exporter": "python",
   "pygments_lexer": "ipython3",
   "version": "3.10.10"
  },
  "orig_nbformat": 4
 },
 "nbformat": 4,
 "nbformat_minor": 2
}
